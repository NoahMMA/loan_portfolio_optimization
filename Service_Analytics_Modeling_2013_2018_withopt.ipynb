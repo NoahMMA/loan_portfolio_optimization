{
 "cells": [
  {
   "cell_type": "code",
   "execution_count": 1,
   "metadata": {},
   "outputs": [
    {
     "data": {
      "application/javascript": [
       "IPython.notebook.set_autosave_interval(10000)"
      ]
     },
     "metadata": {},
     "output_type": "display_data"
    },
    {
     "name": "stdout",
     "output_type": "stream",
     "text": [
      "Autosaving every 10 seconds\n"
     ]
    }
   ],
   "source": [
    "%autosave 10"
   ]
  },
  {
   "cell_type": "markdown",
   "metadata": {
    "colab_type": "text",
    "id": "LYGi9zFjOHm8"
   },
   "source": [
    "# Phase 2 - Modeling"
   ]
  },
  {
   "cell_type": "code",
   "execution_count": 2,
   "metadata": {
    "colab": {},
    "colab_type": "code",
    "id": "UodQqT7qOHm-",
    "scrolled": true
   },
   "outputs": [
    {
     "name": "stderr",
     "output_type": "stream",
     "text": [
      "C:\\Users\\Ramy\\Anaconda3\\lib\\site-packages\\sklearn\\externals\\six.py:31: FutureWarning: The module is deprecated in version 0.21 and will be removed in version 0.23 since we've dropped support for Python 2.7. Please rely on the official version of six (https://pypi.org/project/six/).\n",
      "  \"(https://pypi.org/project/six/).\", FutureWarning)\n"
     ]
    }
   ],
   "source": [
    "# Load general utilities\n",
    "# ----------------------\n",
    "import pandas as pd\n",
    "import matplotlib.pyplot as plt\n",
    "import matplotlib.axes as ax\n",
    "import datetime\n",
    "import numpy as np\n",
    "import pickle\n",
    "import time\n",
    "import seaborn as sns\n",
    "\n",
    "# Load sklearn utilities\n",
    "# ----------------------\n",
    "from sklearn.model_selection import train_test_split\n",
    "from sklearn import preprocessing\n",
    "from sklearn.model_selection import GridSearchCV\n",
    "\n",
    "from sklearn.metrics import accuracy_score, classification_report, roc_auc_score, roc_curve, brier_score_loss, mean_squared_error, r2_score\n",
    "\n",
    "from sklearn.calibration import calibration_curve\n",
    "\n",
    "# Load classifiers\n",
    "# ----------------\n",
    "from sklearn.linear_model import LogisticRegression\n",
    "from sklearn.linear_model import RidgeClassifier\n",
    "from sklearn.tree import DecisionTreeClassifier\n",
    "from sklearn.ensemble import RandomForestClassifier\n",
    "from sklearn.naive_bayes import GaussianNB\n",
    "from sklearn.neural_network import MLPClassifier\n",
    "from sklearn.ensemble import GradientBoostingClassifier\n",
    "from sklearn.ensemble import BaggingClassifier\n",
    "\n",
    "# Other Packages\n",
    "# --------------\n",
    "from scipy.stats import kendalltau\n",
    "from sklearn.neural_network import MLPRegressor\n",
    "from sklearn import linear_model\n",
    "from sklearn.ensemble import RandomForestRegressor\n",
    "from sklearn.cluster import KMeans\n",
    "from gurobipy import *\n",
    "from sklearn.externals.six import StringIO  \n",
    "from IPython.display import Image  \n",
    "from sklearn.tree import export_graphviz\n",
    "import pydotplus\n",
    "#from scipy.interpolate import spline\n",
    "\n",
    "# Load debugger, if required\n",
    "#import pixiedust\n",
    "pd.options.mode.chained_assignment = None #'warn'\n",
    "\n",
    "# suppress all warnings\n",
    "import warnings\n",
    "warnings.filterwarnings(\"ignore\")"
   ]
  },
  {
   "cell_type": "code",
   "execution_count": 3,
   "metadata": {
    "colab": {},
    "colab_type": "code",
    "id": "NphwojFtOHnC"
   },
   "outputs": [],
   "source": [
    "# Define a function that, given a CVGridSearch object, finds the\n",
    "# percentage difference between the best and worst scores\n",
    "def find_score_variation(cv_model):\n",
    "    all_scores = cv_model.cv_results_['mean_test_score']\n",
    "    return( np.abs((max(all_scores) - min(all_scores))) * 100 / max(all_scores) )\n",
    "\n",
    "    '''\n",
    "    which_min_score = np.argmin(all_scores)\n",
    "    \n",
    "    all_perc_diff = []\n",
    "    \n",
    "    try:\n",
    "        all_perc_diff.append( np.abs(all_scores[which_min_score - 1] - all_scores[which_min_score])*100 / min(all_scores) )\n",
    "    except:\n",
    "        pass\n",
    "    \n",
    "    try:\n",
    "        all_perc_diff.append( np.abs(all_scores[which_min_score + 1] - all_scores[which_min_score])*100 / min(all_scores) )\n",
    "    except:\n",
    "        pass\n",
    "    \n",
    "    return ( np.mean(all_perc_diff) )\n",
    "    '''\n",
    "\n",
    "# Define a function that checks, given a CVGridSearch object,\n",
    "# whether the optimal parameters lie on the edge of the search\n",
    "# grid\n",
    "def find_opt_params_on_edge(cv_model):\n",
    "    out = False\n",
    "    \n",
    "    for i in cv_model.param_grid:\n",
    "        if cv_model.best_params_[i] in [ cv_model.param_grid[i][0], cv_model.param_grid[i][-1] ]:\n",
    "            out = True\n",
    "            break\n",
    "            \n",
    "    return out"
   ]
  },
  {
   "cell_type": "markdown",
   "metadata": {
    "colab_type": "text",
    "id": "fHd7PLT_OHnF"
   },
   "source": [
    "## Define a default random seed and an output file"
   ]
  },
  {
   "cell_type": "code",
   "execution_count": 46,
   "metadata": {
    "colab": {},
    "colab_type": "code",
    "id": "9yghAiBdOHnF"
   },
   "outputs": [],
   "source": [
    "default_seed = 2\n",
    "output_file = \"output_sample\""
   ]
  },
  {
   "cell_type": "code",
   "execution_count": 5,
   "metadata": {
    "colab": {},
    "colab_type": "code",
    "id": "zjf_mlkDOHnI"
   },
   "outputs": [],
   "source": [
    "# Create a function to print a line to our output file\n",
    "\n",
    "def dump_to_output(key, value):\n",
    "    with open(output_file, \"a\") as f:\n",
    "        f.write(\",\".join([str(default_seed), key, str(value)]) + \"\\n\")"
   ]
  },
  {
   "cell_type": "markdown",
   "metadata": {
    "colab_type": "text",
    "id": "WYVPL9BqOHnL"
   },
   "source": [
    "## Load the data and engineer the features"
   ]
  },
  {
   "cell_type": "code",
   "execution_count": 6,
   "metadata": {
    "colab": {},
    "colab_type": "code",
    "id": "9sCw3fUXOHnM"
   },
   "outputs": [],
   "source": [
    "# Read the data and features from the pickle\n",
    "data, discrete_features, continuous_features, ret_cols = pickle.load( open(r\"C:\\Users\\Ramy\\Desktop\\Service\\FinalSubmission\\mypickle_notbalanced.pickle\", \"rb\" ) )"
   ]
  },
  {
   "cell_type": "code",
   "execution_count": 7,
   "metadata": {
    "colab": {
     "base_uri": "https://localhost:8080/",
     "height": 593
    },
    "colab_type": "code",
    "id": "m7tMzWT-OHnP",
    "outputId": "a2696c7e-1df9-4fbe-f460-d5ea0a6f4c2e"
   },
   "outputs": [
    {
     "data": {
      "text/html": [
       "<div>\n",
       "<style scoped>\n",
       "    .dataframe tbody tr th:only-of-type {\n",
       "        vertical-align: middle;\n",
       "    }\n",
       "\n",
       "    .dataframe tbody tr th {\n",
       "        vertical-align: top;\n",
       "    }\n",
       "\n",
       "    .dataframe thead th {\n",
       "        text-align: right;\n",
       "    }\n",
       "</style>\n",
       "<table border=\"1\" class=\"dataframe\">\n",
       "  <thead>\n",
       "    <tr style=\"text-align: right;\">\n",
       "      <th></th>\n",
       "      <th>loan_number</th>\n",
       "      <th>amount_borrowed</th>\n",
       "      <th>borrower_rate</th>\n",
       "      <th>term</th>\n",
       "      <th>age_in_months</th>\n",
       "      <th>days_past_due</th>\n",
       "      <th>principal_balance</th>\n",
       "      <th>service_fees_paid</th>\n",
       "      <th>principal_paid</th>\n",
       "      <th>interest_paid</th>\n",
       "      <th>...</th>\n",
       "      <th>issue_d</th>\n",
       "      <th>last_pymnt_d</th>\n",
       "      <th>loan_length</th>\n",
       "      <th>loan_status</th>\n",
       "      <th>grade</th>\n",
       "      <th>ret_PESS</th>\n",
       "      <th>ret_OPT</th>\n",
       "      <th>ret_INTa</th>\n",
       "      <th>ret_INTb</th>\n",
       "      <th>ret_INTc</th>\n",
       "    </tr>\n",
       "  </thead>\n",
       "  <tbody>\n",
       "    <tr>\n",
       "      <th>1</th>\n",
       "      <td>79656</td>\n",
       "      <td>4000.0</td>\n",
       "      <td>0.1559</td>\n",
       "      <td>36.0</td>\n",
       "      <td>88</td>\n",
       "      <td>0</td>\n",
       "      <td>0.0</td>\n",
       "      <td>-51.84</td>\n",
       "      <td>4000.0</td>\n",
       "      <td>808.28</td>\n",
       "      <td>...</td>\n",
       "      <td>2013-01-02</td>\n",
       "      <td>2015-04-02</td>\n",
       "      <td>26</td>\n",
       "      <td>0.0</td>\n",
       "      <td>B</td>\n",
       "      <td>0.067357</td>\n",
       "      <td>0.093263</td>\n",
       "      <td>0.049251</td>\n",
       "      <td>0.063118</td>\n",
       "      <td>0.087959</td>\n",
       "    </tr>\n",
       "    <tr>\n",
       "      <th>2</th>\n",
       "      <td>79665</td>\n",
       "      <td>17500.0</td>\n",
       "      <td>0.2398</td>\n",
       "      <td>60.0</td>\n",
       "      <td>88</td>\n",
       "      <td>0</td>\n",
       "      <td>0.0</td>\n",
       "      <td>-66.89</td>\n",
       "      <td>17500.0</td>\n",
       "      <td>1604.20</td>\n",
       "      <td>...</td>\n",
       "      <td>2013-01-02</td>\n",
       "      <td>2015-04-02</td>\n",
       "      <td>26</td>\n",
       "      <td>0.0</td>\n",
       "      <td>C</td>\n",
       "      <td>0.018334</td>\n",
       "      <td>0.042309</td>\n",
       "      <td>0.026120</td>\n",
       "      <td>0.038315</td>\n",
       "      <td>0.060096</td>\n",
       "    </tr>\n",
       "    <tr>\n",
       "      <th>3</th>\n",
       "      <td>79659</td>\n",
       "      <td>15000.0</td>\n",
       "      <td>0.1564</td>\n",
       "      <td>60.0</td>\n",
       "      <td>88</td>\n",
       "      <td>0</td>\n",
       "      <td>0.0</td>\n",
       "      <td>-298.07</td>\n",
       "      <td>15000.0</td>\n",
       "      <td>4661.84</td>\n",
       "      <td>...</td>\n",
       "      <td>2013-01-02</td>\n",
       "      <td>2016-08-02</td>\n",
       "      <td>42</td>\n",
       "      <td>0.0</td>\n",
       "      <td>A</td>\n",
       "      <td>0.062158</td>\n",
       "      <td>0.088797</td>\n",
       "      <td>0.068232</td>\n",
       "      <td>0.077655</td>\n",
       "      <td>0.094240</td>\n",
       "    </tr>\n",
       "    <tr>\n",
       "      <th>4</th>\n",
       "      <td>79668</td>\n",
       "      <td>10000.0</td>\n",
       "      <td>0.2118</td>\n",
       "      <td>60.0</td>\n",
       "      <td>88</td>\n",
       "      <td>0</td>\n",
       "      <td>0.0</td>\n",
       "      <td>-235.48</td>\n",
       "      <td>10000.0</td>\n",
       "      <td>4987.94</td>\n",
       "      <td>...</td>\n",
       "      <td>2013-01-02</td>\n",
       "      <td>2016-08-02</td>\n",
       "      <td>42</td>\n",
       "      <td>0.0</td>\n",
       "      <td>C</td>\n",
       "      <td>0.099759</td>\n",
       "      <td>0.142513</td>\n",
       "      <td>0.107311</td>\n",
       "      <td>0.119069</td>\n",
       "      <td>0.139884</td>\n",
       "    </tr>\n",
       "    <tr>\n",
       "      <th>5</th>\n",
       "      <td>79662</td>\n",
       "      <td>9500.0</td>\n",
       "      <td>0.1939</td>\n",
       "      <td>36.0</td>\n",
       "      <td>88</td>\n",
       "      <td>0</td>\n",
       "      <td>0.0</td>\n",
       "      <td>-98.53</td>\n",
       "      <td>9500.0</td>\n",
       "      <td>1910.21</td>\n",
       "      <td>...</td>\n",
       "      <td>2013-01-02</td>\n",
       "      <td>2015-04-02</td>\n",
       "      <td>26</td>\n",
       "      <td>0.0</td>\n",
       "      <td>C</td>\n",
       "      <td>0.067025</td>\n",
       "      <td>0.092804</td>\n",
       "      <td>0.049043</td>\n",
       "      <td>0.062894</td>\n",
       "      <td>0.087708</td>\n",
       "    </tr>\n",
       "    <tr>\n",
       "      <th>...</th>\n",
       "      <td>...</td>\n",
       "      <td>...</td>\n",
       "      <td>...</td>\n",
       "      <td>...</td>\n",
       "      <td>...</td>\n",
       "      <td>...</td>\n",
       "      <td>...</td>\n",
       "      <td>...</td>\n",
       "      <td>...</td>\n",
       "      <td>...</td>\n",
       "      <td>...</td>\n",
       "      <td>...</td>\n",
       "      <td>...</td>\n",
       "      <td>...</td>\n",
       "      <td>...</td>\n",
       "      <td>...</td>\n",
       "      <td>...</td>\n",
       "      <td>...</td>\n",
       "      <td>...</td>\n",
       "      <td>...</td>\n",
       "      <td>...</td>\n",
       "    </tr>\n",
       "    <tr>\n",
       "      <th>198746</th>\n",
       "      <td>1167680</td>\n",
       "      <td>10500.0</td>\n",
       "      <td>0.1628</td>\n",
       "      <td>60.0</td>\n",
       "      <td>17</td>\n",
       "      <td>0</td>\n",
       "      <td>0.0</td>\n",
       "      <td>-42.70</td>\n",
       "      <td>10500.0</td>\n",
       "      <td>646.63</td>\n",
       "      <td>...</td>\n",
       "      <td>2018-12-31</td>\n",
       "      <td>2019-06-30</td>\n",
       "      <td>5</td>\n",
       "      <td>0.0</td>\n",
       "      <td>C</td>\n",
       "      <td>0.012317</td>\n",
       "      <td>0.147801</td>\n",
       "      <td>0.024341</td>\n",
       "      <td>0.043642</td>\n",
       "      <td>0.079493</td>\n",
       "    </tr>\n",
       "    <tr>\n",
       "      <th>198748</th>\n",
       "      <td>1171231</td>\n",
       "      <td>9500.0</td>\n",
       "      <td>0.1003</td>\n",
       "      <td>36.0</td>\n",
       "      <td>17</td>\n",
       "      <td>0</td>\n",
       "      <td>0.0</td>\n",
       "      <td>-76.21</td>\n",
       "      <td>9500.0</td>\n",
       "      <td>711.10</td>\n",
       "      <td>...</td>\n",
       "      <td>2018-12-31</td>\n",
       "      <td>2019-11-30</td>\n",
       "      <td>10</td>\n",
       "      <td>0.0</td>\n",
       "      <td>A</td>\n",
       "      <td>0.024951</td>\n",
       "      <td>0.089823</td>\n",
       "      <td>0.026058</td>\n",
       "      <td>0.043748</td>\n",
       "      <td>0.076294</td>\n",
       "    </tr>\n",
       "    <tr>\n",
       "      <th>198750</th>\n",
       "      <td>1167848</td>\n",
       "      <td>7000.0</td>\n",
       "      <td>0.0904</td>\n",
       "      <td>36.0</td>\n",
       "      <td>17</td>\n",
       "      <td>0</td>\n",
       "      <td>0.0</td>\n",
       "      <td>-69.31</td>\n",
       "      <td>7000.0</td>\n",
       "      <td>582.61</td>\n",
       "      <td>...</td>\n",
       "      <td>2018-12-31</td>\n",
       "      <td>2020-02-11</td>\n",
       "      <td>13</td>\n",
       "      <td>0.0</td>\n",
       "      <td>A</td>\n",
       "      <td>0.027743</td>\n",
       "      <td>0.076828</td>\n",
       "      <td>0.027171</td>\n",
       "      <td>0.043905</td>\n",
       "      <td>0.074520</td>\n",
       "    </tr>\n",
       "    <tr>\n",
       "      <th>198751</th>\n",
       "      <td>1180476</td>\n",
       "      <td>8500.0</td>\n",
       "      <td>0.2204</td>\n",
       "      <td>36.0</td>\n",
       "      <td>17</td>\n",
       "      <td>0</td>\n",
       "      <td>0.0</td>\n",
       "      <td>-42.17</td>\n",
       "      <td>8500.0</td>\n",
       "      <td>864.68</td>\n",
       "      <td>...</td>\n",
       "      <td>2018-12-31</td>\n",
       "      <td>2019-07-03</td>\n",
       "      <td>6</td>\n",
       "      <td>0.0</td>\n",
       "      <td>C</td>\n",
       "      <td>0.033909</td>\n",
       "      <td>0.203454</td>\n",
       "      <td>0.032619</td>\n",
       "      <td>0.052297</td>\n",
       "      <td>0.088786</td>\n",
       "    </tr>\n",
       "    <tr>\n",
       "      <th>198753</th>\n",
       "      <td>1167662</td>\n",
       "      <td>3000.0</td>\n",
       "      <td>0.1464</td>\n",
       "      <td>36.0</td>\n",
       "      <td>17</td>\n",
       "      <td>0</td>\n",
       "      <td>0.0</td>\n",
       "      <td>-7.35</td>\n",
       "      <td>3000.0</td>\n",
       "      <td>100.11</td>\n",
       "      <td>...</td>\n",
       "      <td>2018-12-31</td>\n",
       "      <td>2019-03-31</td>\n",
       "      <td>2</td>\n",
       "      <td>0.0</td>\n",
       "      <td>B</td>\n",
       "      <td>0.011123</td>\n",
       "      <td>0.200220</td>\n",
       "      <td>0.019013</td>\n",
       "      <td>0.038890</td>\n",
       "      <td>0.076028</td>\n",
       "    </tr>\n",
       "  </tbody>\n",
       "</table>\n",
       "<p>735183 rows × 27 columns</p>\n",
       "</div>"
      ],
      "text/plain": [
       "        loan_number  amount_borrowed  borrower_rate  term  age_in_months  \\\n",
       "1             79656           4000.0         0.1559  36.0             88   \n",
       "2             79665          17500.0         0.2398  60.0             88   \n",
       "3             79659          15000.0         0.1564  60.0             88   \n",
       "4             79668          10000.0         0.2118  60.0             88   \n",
       "5             79662           9500.0         0.1939  36.0             88   \n",
       "...             ...              ...            ...   ...            ...   \n",
       "198746      1167680          10500.0         0.1628  60.0             17   \n",
       "198748      1171231           9500.0         0.1003  36.0             17   \n",
       "198750      1167848           7000.0         0.0904  36.0             17   \n",
       "198751      1180476           8500.0         0.2204  36.0             17   \n",
       "198753      1167662           3000.0         0.1464  36.0             17   \n",
       "\n",
       "        days_past_due  principal_balance  service_fees_paid  principal_paid  \\\n",
       "1                   0                0.0             -51.84          4000.0   \n",
       "2                   0                0.0             -66.89         17500.0   \n",
       "3                   0                0.0            -298.07         15000.0   \n",
       "4                   0                0.0            -235.48         10000.0   \n",
       "5                   0                0.0             -98.53          9500.0   \n",
       "...               ...                ...                ...             ...   \n",
       "198746              0                0.0             -42.70         10500.0   \n",
       "198748              0                0.0             -76.21          9500.0   \n",
       "198750              0                0.0             -69.31          7000.0   \n",
       "198751              0                0.0             -42.17          8500.0   \n",
       "198753              0                0.0              -7.35          3000.0   \n",
       "\n",
       "        interest_paid  ...    issue_d  last_pymnt_d  loan_length  loan_status  \\\n",
       "1              808.28  ... 2013-01-02    2015-04-02           26          0.0   \n",
       "2             1604.20  ... 2013-01-02    2015-04-02           26          0.0   \n",
       "3             4661.84  ... 2013-01-02    2016-08-02           42          0.0   \n",
       "4             4987.94  ... 2013-01-02    2016-08-02           42          0.0   \n",
       "5             1910.21  ... 2013-01-02    2015-04-02           26          0.0   \n",
       "...               ...  ...        ...           ...          ...          ...   \n",
       "198746         646.63  ... 2018-12-31    2019-06-30            5          0.0   \n",
       "198748         711.10  ... 2018-12-31    2019-11-30           10          0.0   \n",
       "198750         582.61  ... 2018-12-31    2020-02-11           13          0.0   \n",
       "198751         864.68  ... 2018-12-31    2019-07-03            6          0.0   \n",
       "198753         100.11  ... 2018-12-31    2019-03-31            2          0.0   \n",
       "\n",
       "        grade  ret_PESS   ret_OPT  ret_INTa  ret_INTb  ret_INTc  \n",
       "1           B  0.067357  0.093263  0.049251  0.063118  0.087959  \n",
       "2           C  0.018334  0.042309  0.026120  0.038315  0.060096  \n",
       "3           A  0.062158  0.088797  0.068232  0.077655  0.094240  \n",
       "4           C  0.099759  0.142513  0.107311  0.119069  0.139884  \n",
       "5           C  0.067025  0.092804  0.049043  0.062894  0.087708  \n",
       "...       ...       ...       ...       ...       ...       ...  \n",
       "198746      C  0.012317  0.147801  0.024341  0.043642  0.079493  \n",
       "198748      A  0.024951  0.089823  0.026058  0.043748  0.076294  \n",
       "198750      A  0.027743  0.076828  0.027171  0.043905  0.074520  \n",
       "198751      C  0.033909  0.203454  0.032619  0.052297  0.088786  \n",
       "198753      B  0.011123  0.200220  0.019013  0.038890  0.076028  \n",
       "\n",
       "[735183 rows x 27 columns]"
      ]
     },
     "execution_count": 7,
     "metadata": {},
     "output_type": "execute_result"
    }
   ],
   "source": [
    "data"
   ]
  },
  {
   "cell_type": "code",
   "execution_count": 8,
   "metadata": {
    "colab": {},
    "colab_type": "code",
    "id": "AFcV3x7POHnS"
   },
   "outputs": [],
   "source": [
    "# Create the outcome\n",
    "data[\"outcome\"] = data.loan_status"
   ]
  },
  {
   "cell_type": "code",
   "execution_count": 9,
   "metadata": {
    "colab": {},
    "colab_type": "code",
    "id": "tSdKBUymOHnd"
   },
   "outputs": [],
   "source": [
    "# Randomly assign each row to a training and test set. We do this now\n",
    "# because we will be fitting a variety of models on various time periods,\n",
    "# and we would like every period to use the *same* training/test split\n",
    "np.random.seed(default_seed)\n",
    "data['train'] = np.random.choice([True, False], size = len(data), p = [0.7, 0.3])"
   ]
  },
  {
   "cell_type": "code",
   "execution_count": 10,
   "metadata": {
    "colab": {},
    "colab_type": "code",
    "id": "mE6-jS38OHng"
   },
   "outputs": [],
   "source": [
    "# Create a matrix of features and outcomes, with dummies. Record the\n",
    "# names of the dummies for later use\n",
    "X_continuous = data[continuous_features].values"
   ]
  },
  {
   "cell_type": "code",
   "execution_count": 11,
   "metadata": {
    "colab": {},
    "colab_type": "code",
    "id": "cvolWhkbOHnj"
   },
   "outputs": [],
   "source": [
    "X_discrete = pd.get_dummies(data[discrete_features], dummy_na = True, prefix_sep = \"::\", drop_first = True)\n",
    "\n",
    "# category = pd.get_dummies(data[\"ListingCategory\"])\n",
    "# X_discrete = data.join(category, rsuffix=\"_category\")\n",
    "# X_discrete.drop(\"ListingCategory\", axis=1, inplace=True)\n",
    "\n",
    "# employment = pd.get_dummies(X_discrete[\"EmploymentStatus\"])\n",
    "# X_discrete = X_discrete.join(employment, rsuffix=\"_employmentstatus\")\n",
    "# X_discrete.drop(\"EmploymentStatus\", axis=1, inplace=True)\n",
    "\n",
    "\n",
    "# state = pd.get_dummies(X_discrete[\"BorrowerState\"])\n",
    "# X_discrete = X_discrete.join(state, rsuffix=\"_state\")\n",
    "# X_discrete.drop(\"BorrowerState\", axis=1, inplace=True)\n",
    "\n",
    "\n",
    "# X_discrete = X_discrete.join(category, rsuffix=\"_category\")\n",
    "# X_discrete.drop(\"ListingCategory\", axis=1, inplace=True)\n",
    "# X_discrete = X_discrete.join(employment, rsuffix=\"_employmentstatus\")\n",
    "# X_discrete.drop(\"EmploymentStatus\", axis=1, inplace=True)\n",
    "# X_discrete = X_discrete.join(state, rsuffix=\"_state\")\n",
    "# X_discrete.drop(\"BorrowerState\", axis=1, inplace=True)\n",
    "\n",
    "discrete_features_dummies = X_discrete.columns.tolist()\n",
    "X_discrete = X_discrete.values\n",
    "#pd.set_option(\"display.max_columns\", len(X_discrete.columns))\n",
    "#X_discrete.head()"
   ]
  },
  {
   "cell_type": "code",
   "execution_count": 12,
   "metadata": {
    "colab": {},
    "colab_type": "code",
    "id": "KFL1-riJOHnm"
   },
   "outputs": [],
   "source": [
    "X = np.concatenate( (X_continuous, X_discrete), axis = 1 )\n",
    "\n",
    "y = data.outcome.values\n",
    "\n",
    "train = data.train.values"
   ]
  },
  {
   "cell_type": "markdown",
   "metadata": {
    "colab_type": "text",
    "id": "3Gd4psdYOHnq"
   },
   "source": [
    "## Prepare functions to fit and evaluate models"
   ]
  },
  {
   "cell_type": "markdown",
   "metadata": {
    "colab_type": "text",
    "id": "DwIVboKcOHnq"
   },
   "source": [
    "### Prepare Data"
   ]
  },
  {
   "cell_type": "code",
   "execution_count": 45,
   "metadata": {},
   "outputs": [
    {
     "data": {
      "text/plain": [
       "array([ True, False,  True, ..., False, False, False])"
      ]
     },
     "execution_count": 45,
     "metadata": {},
     "output_type": "execute_result"
    }
   ],
   "source": [
    "train"
   ]
  },
  {
   "cell_type": "code",
   "execution_count": 13,
   "metadata": {
    "colab": {},
    "colab_type": "code",
    "id": "iqugg0o1OHnr"
   },
   "outputs": [],
   "source": [
    "def prepare_data(data_subset = np.array([True]*len(data)),\n",
    "                    n_samples_train = 30000,\n",
    "                    n_samples_test = 20000,\n",
    "                    feature_subset = None,\n",
    "                    date_range_train = (data.issue_d.min(), data.issue_d.max()),\n",
    "                    date_range_test = (data.issue_d.min(), data.issue_d.max()),\n",
    "                    random_state = default_seed):\n",
    "    '''\n",
    "    This function will prepare the data for classification or regression.\n",
    "    It expects the following parameters:\n",
    "      - data_subset: a numpy array with as many entries as rows in the\n",
    "                     dataset. Each entry should be True if that row\n",
    "                     should be used, or False if it should be ignored\n",
    "      - n_samples_train: the total number of samples to be used for training.\n",
    "                         Will trigger an error if this number is larger than\n",
    "                         the number of rows available after all filters have\n",
    "                         been applied\n",
    "      - n_samples_test: as above for testing\n",
    "      - feature_subect: A list containing the names of the features to be\n",
    "                        used in the model. In None, all features in X are\n",
    "                        used\n",
    "      - date_range_train: a tuple containing two dates. All rows with loans\n",
    "                          issued outside of these two dates will be ignored in\n",
    "                          training\n",
    "      - date_range_test: as above for testing\n",
    "      - random_state: the random seed to use when selecting a subset of rows\n",
    "      \n",
    "    Note that this function assumes the data has a \"Train\" column, and will\n",
    "    select all training rows from the rows with \"True\" in that column, and all\n",
    "    the testing rows from those with a \"False\" in that column.\n",
    "    \n",
    "    This function returns a dictionary with the following entries\n",
    "      - X_train: the matrix of training data\n",
    "      - y_train: the array of training labels\n",
    "      - train_set: a Boolean vector with as many entries as rows in the data\n",
    "                  that denotes the rows that were used in the train set\n",
    "      - X_test: the matrix of testing data\n",
    "      - y_test: the array of testing labels\n",
    "      - test_set: a Boolean vector with as many entries as rows in the data\n",
    "                  that denotes the rows that were used in the test set\n",
    "    '''\n",
    "    \n",
    "    np.random.seed(random_state)\n",
    "        \n",
    "    # Filter down the data to the required date range, and downsample\n",
    "    # as required\n",
    "    filter_train = ( train & (data.issue_d >= date_range_train[0]) &\n",
    "                            (data.issue_d <= date_range_train[1]) & data_subset ).values\n",
    "    filter_test = ( (train == False) & (data.issue_d >= date_range_test[0])\n",
    "                            & (data.issue_d <= date_range_test[1]) & data_subset ).values\n",
    "    \n",
    "    filter_train[ np.random.choice( np.where(filter_train)[0], size = filter_train.sum()\n",
    "                                                   - n_samples_train, replace = False ) ] = False\n",
    "    filter_test[ np.random.choice( np.where(filter_test)[0], size = filter_test.sum()\n",
    "                                                   - n_samples_test, replace = False ) ] = False\n",
    "    \n",
    "    # Prepare the training and test set\n",
    "    X_train = X[ filter_train , :]\n",
    "    X_test = X[ filter_test, :]\n",
    "    if feature_subset != None:\n",
    "        cols = [i for i, j in enumerate(continuous_features + discrete_features_dummies)\n",
    "                                                     if j.split(\"::\")[0] in feature_subset]\n",
    "        X_train = X_train[ : , cols ]\n",
    "        X_test = X_test[ : , cols ]\n",
    "        \n",
    "    y_train = y[ filter_train ]\n",
    "    y_test = y[ filter_test ]\n",
    "    \n",
    "    # Scale the variables\n",
    "    scaler = preprocessing.MinMaxScaler()\n",
    "\n",
    "    X_train = scaler.fit_transform(X_train)\n",
    "    X_test = scaler.transform(X_test)\n",
    "    \n",
    "    # return training and testing data\n",
    "    out = {'X_train':X_train, 'y_train':y_train, 'train_set':filter_train, \n",
    "           'X_test':X_test, 'y_test':y_test, 'test_set':filter_test}\n",
    "    \n",
    "    return out"
   ]
  },
  {
   "cell_type": "markdown",
   "metadata": {
    "colab_type": "text",
    "id": "PYVDgxBAOHnt"
   },
   "source": [
    "### Fit Classification"
   ]
  },
  {
   "cell_type": "code",
   "execution_count": 14,
   "metadata": {
    "colab": {},
    "colab_type": "code",
    "id": "dM9H8OntOHnu"
   },
   "outputs": [],
   "source": [
    "def fit_classification(model, data_dict,\n",
    "                          cv_parameters = {},\n",
    "                          model_name = None,\n",
    "                          random_state = default_seed,\n",
    "                          output_to_file = True,\n",
    "                          print_to_screen = True):\n",
    "    '''\n",
    "    This function will fit a classification model to data and print various evaluation\n",
    "    measures. It expects the following parameters\n",
    "      - model: an sklearn model object\n",
    "      - data_dict: the dictionary containing both training and testing data;\n",
    "                   returned by the prepare_data function\n",
    "      - cv_parameters: a dictionary of parameters that should be optimized\n",
    "                       over using cross-validation. Specifically, each named\n",
    "                       entry in the dictionary should correspond to a parameter,\n",
    "                       and each element should be a list containing the values\n",
    "                       to optimize over\n",
    "      - model_name: the name of the model being fit, for printouts\n",
    "      - random_state: the random seed to use\n",
    "      - output_to_file: if the results will be saved to the output file\n",
    "      - print_to_screen: if the results will be printed on screen\n",
    "    \n",
    "    If the model provided does not have a predict_proba function, we will\n",
    "    simply print accuracy diagnostics and return.\n",
    "    \n",
    "    If the model provided does have a predict_proba function, we first\n",
    "    figure out the optimal threshold that maximizes the accuracy and\n",
    "    print out accuracy diagnostics. We then print an ROC curve, sensitivity/\n",
    "    specificity curve, and calibration curve.\n",
    "    \n",
    "    This function returns a dictionary with the following entries\n",
    "      - model: the best fitted model\n",
    "      - y_pred: predictions for the test set\n",
    "      - y_pred_probs: probability predictions for the test set, if the model\n",
    "                      supports them\n",
    "      - y_pred_score: prediction scores for the test set, if the model does not \n",
    "                      output probabilities.\n",
    "    '''\n",
    "        \n",
    "    np.random.seed(random_state)\n",
    "    \n",
    "    # --------------------------\n",
    "    #   Step 1 - Load the data\n",
    "    # --------------------------\n",
    "    X_train = data_dict['X_train']\n",
    "    y_train = data_dict['y_train']\n",
    "    \n",
    "    X_test = data_dict['X_test']\n",
    "    y_test = data_dict['y_test']\n",
    "    \n",
    "    filter_train = data_dict['train_set']    \n",
    "  \n",
    "    # --------------------------\n",
    "    #   Step 2 - Fit the model\n",
    "    # --------------------------\n",
    "\n",
    "    cv_model = GridSearchCV(model, cv_parameters)\n",
    "    \n",
    "    start_time = time.time()\n",
    "    cv_model.fit(X_train, y_train)\n",
    "    end_time = time.time()\n",
    "    \n",
    "    best_model = cv_model.best_estimator_\n",
    "    \n",
    "    if print_to_screen:\n",
    "\n",
    "        if model_name != None:\n",
    "            print(\"=========================================================\")\n",
    "            print(\"  Model: \" + model_name)\n",
    "            print(\"=========================================================\")\n",
    "\n",
    "        print(\"Fit time: \" + str(round(end_time - start_time, 2)) + \" seconds\")\n",
    "        print(\"Optimal parameters:\")\n",
    "        print(cv_model.best_params_)\n",
    "        print(\"\")\n",
    "    \n",
    "    # -------------------------------\n",
    "    #   Step 3 - Evaluate the model\n",
    "    # -------------------------------\n",
    "    \n",
    "    # If possible, make probability predictions\n",
    "    try:\n",
    "        y_pred_probs = best_model.predict_proba(X_test)[:,1]\n",
    "        fpr, tpr, thresholds = roc_curve(y_test, y_pred_probs)\n",
    "        \n",
    "        probs_predicted = True\n",
    "    except:\n",
    "        probs_predicted = False\n",
    "    \n",
    "    # Make predictions; if we were able to find probabilities, use\n",
    "    # the threshold that maximizes the accuracy in the training set.\n",
    "    # If not, just use the learner's predict function\n",
    "    if probs_predicted:\n",
    "        y_train_pred_probs = best_model.predict_proba(X_train)[:,1]\n",
    "        fpr_train, tpr_train, thresholds_train = roc_curve(y_train, y_train_pred_probs)\n",
    "        \n",
    "        true_pos_train = tpr_train*(y_train.sum())\n",
    "        true_neg_train = (1 - fpr_train) *(1-y_train).sum()\n",
    "        \n",
    "        best_threshold_index = np.argmax(true_pos_train + true_neg_train)\n",
    "        best_threshold = 1 if best_threshold_index == 0 else thresholds_train[ best_threshold_index ]\n",
    "        \n",
    "        if print_to_screen:\n",
    "            print(\"Accuracy-maximizing threshold was: \" + str(best_threshold))\n",
    "        \n",
    "        y_pred = (y_pred_probs > best_threshold)\n",
    "    else:\n",
    "        y_pred = best_model.predict(X_test)\n",
    "    \n",
    "    if print_to_screen:\n",
    "        print(\"Accuracy: \", accuracy_score(y_test, y_pred))\n",
    "        print(classification_report(y_test, y_pred, target_names =['No default', 'Default'], digits = 4))\n",
    "\n",
    "    if print_to_screen:\n",
    "        if probs_predicted:        \n",
    "            plt.figure(figsize = (13, 4.5))\n",
    "            plt.subplot(2, 2, 1)\n",
    "\n",
    "            plt.title(\"ROC Curve (AUC = %0.2f)\"% roc_auc_score(y_test, y_pred_probs))\n",
    "            plt.plot(fpr, tpr, 'b')\n",
    "            plt.plot([0,1],[0,1],'r--')\n",
    "            plt.xlim([0,1]); plt.ylim([0,1])\n",
    "            plt.ylabel('True Positive Rate')\n",
    "            plt.xlabel('False Positive Rate')\n",
    "\n",
    "            plt.subplot(2, 2, 3)\n",
    "\n",
    "            plt.plot(thresholds, tpr, 'b', label = 'Sensitivity')\n",
    "            plt.plot(thresholds, 1 -fpr, 'r', label = 'Specificity')\n",
    "            plt.legend(loc = 'lower right')\n",
    "            plt.xlim([0,1]); plt.ylim([0,1])\n",
    "            plt.xlabel('Threshold')\n",
    "\n",
    "            plt.subplot(2, 2, 2)\n",
    "\n",
    "            fp_0, mpv_0 = calibration_curve(y_test, y_pred_probs, n_bins = 10)\n",
    "            plt.plot([0,1], [0,1], 'k:', label='Perfectly calibrated')\n",
    "            plt.plot(mpv_0, fp_0, 's-')\n",
    "            plt.ylabel('Fraction of Positives')\n",
    "            plt.xlim([0,1]); plt.ylim([0,1])\n",
    "            plt.legend(loc ='upper left')\n",
    "            \n",
    "            plt.subplot(2, 2, 4)\n",
    "            plt.hist(y_pred_probs, range=(0, 1), bins=10, histtype=\"step\", lw=2)\n",
    "            plt.xlim([0,1]); plt.ylim([0,20000])\n",
    "            plt.xlabel('Mean Predicted Probability')\n",
    "            plt.ylabel('Count')\n",
    "            \n",
    "            #plt.tight_layout()\n",
    "            plt.show()\n",
    "        \n",
    "    # Additional Score Check\n",
    "    if probs_predicted:\n",
    "        y_train_score = y_train_pred_probs\n",
    "    else:\n",
    "        y_train_score = best_model.decision_function(X_train)\n",
    "        \n",
    "    tau, p_value = kendalltau(y_train_score, data.grade[filter_train])\n",
    "    if print_to_screen:\n",
    "        print(\"\")\n",
    "        print(\"Similarity to LC grade ranking: \", tau)\n",
    "    \n",
    "    if probs_predicted:\n",
    "        brier_score = brier_score_loss(y_test, y_pred_probs)\n",
    "        if print_to_screen:\n",
    "            print(\"Brier score:\", brier_score)\n",
    "    \n",
    "    # Return the model predictions, and the\n",
    "    # test set\n",
    "    # -------------------------------------\n",
    "    out = {'model':best_model, 'y_pred_labels':y_pred}\n",
    "    \n",
    "    if probs_predicted:\n",
    "        out.update({'y_pred_probs':y_pred_probs})\n",
    "    else:\n",
    "        y_pred_score = best_model.decision_function(X_test)\n",
    "        out.update({'y_pred_score':y_pred_score})\n",
    "        \n",
    "    # Output results to file\n",
    "    # ----------------------\n",
    "    if probs_predicted and output_to_file:\n",
    "        # Check whether any of the CV parameters are on the edge of\n",
    "        # the search space\n",
    "        opt_params_on_edge = find_opt_params_on_edge(cv_model)\n",
    "        dump_to_output(model_name + \"::search_on_edge\", opt_params_on_edge)\n",
    "        if print_to_screen:\n",
    "            print(\"Were parameters on edge? : \" + str(opt_params_on_edge))\n",
    "        \n",
    "        # Find out how different the scores are for the different values\n",
    "        # tested for by cross-validation. If they're not too different, then\n",
    "        # even if the parameters are off the edge of the search grid, we should\n",
    "        # be ok\n",
    "        score_variation = find_score_variation(cv_model)\n",
    "        dump_to_output(model_name + \"::score_variation\", score_variation)\n",
    "        if print_to_screen:\n",
    "            print(\"Score variations around CV search grid : \" + str(score_variation))\n",
    "        \n",
    "        # Print out all the scores\n",
    "        dump_to_output(model_name + \"::all_cv_scores\", str(cv_model.cv_results_['mean_test_score']))\n",
    "        if print_to_screen:\n",
    "            print( str(cv_model.cv_results_['mean_test_score']) )\n",
    "        \n",
    "        # Dump the AUC to file\n",
    "        dump_to_output(model_name + \"::roc_auc\", roc_auc_score(y_test, y_pred_probs) )\n",
    "        \n",
    "    return out"
   ]
  },
  {
   "cell_type": "markdown",
   "metadata": {
    "colab_type": "text",
    "id": "dK0yaLiJOHnw"
   },
   "source": [
    "### Fit Regression"
   ]
  },
  {
   "cell_type": "code",
   "execution_count": 15,
   "metadata": {
    "colab": {},
    "colab_type": "code",
    "id": "kJM72V8MOHnx"
   },
   "outputs": [],
   "source": [
    "def fit_regression(model, data_dict,\n",
    "                      cv_parameters = {},\n",
    "                      separate = False, \n",
    "                      model_name = None,\n",
    "                      random_state = default_seed,\n",
    "                      output_to_file = True,\n",
    "                      print_to_screen = True):\n",
    "    '''\n",
    "    This function will fit a regression model to data and print various evaluation\n",
    "    measures. It expects the following parameters\n",
    "      - model: an sklearn model object\n",
    "      - data_dict: the dictionary containing both training and testing data;\n",
    "                   returned by the prepare_data function\n",
    "      - separate: a Boolean variable indicating whether we fit models for \n",
    "                  defaulted and non-defaulted loans separately\n",
    "      - cv_parameters: a dictionary of parameters that should be optimized\n",
    "                       over using cross-validation. Specifically, each named\n",
    "                       entry in the dictionary should correspond to a parameter,\n",
    "                       and each element should be a list containing the values\n",
    "                       to optimize over      \n",
    "      - model_name: the name of the model being fit, for printouts\n",
    "      - random_state: the random seed to use\n",
    "      - output_to_file: if the results will be saved to the output file\n",
    "      - print_to_screen: if the results will be printed on screen\n",
    "    \n",
    "    This function returns a dictionary FOR EACH RETURN DEFINITION with the following entries\n",
    "      - model: the best fitted model\n",
    "      - predicted_return: prediction result based on the test set\n",
    "      - predicted_regular_return: prediction result for non-defaulted loans (valid if separate == True)\n",
    "      - predicted_default_return: prediction result for defaulted loans (valid if separate == True)\n",
    "      - r2_scores: the testing r2_score(s) for the best fitted model\n",
    "    '''\n",
    "    \n",
    "    np.random.seed(random_state)\n",
    "    \n",
    "    # --------------------------\n",
    "    #   Step 1 - Load the data\n",
    "    # --------------------------\n",
    "    \n",
    "    col_list = ['ret_PESS', 'ret_OPT', 'ret_INTa', 'ret_INTb']\n",
    "    \n",
    "    X_train = data_dict['X_train']\n",
    "    filter_train = data_dict['train_set']  \n",
    "\n",
    "    X_test = data_dict['X_test']\n",
    "    filter_test = data_dict['test_set']\n",
    "    out = {}\n",
    "    \n",
    "    for ret_col in col_list:\n",
    "        \n",
    "        y_train = data.loc[filter_train, ret_col].to_numpy()\n",
    "        y_test = data.loc[filter_test, ret_col].to_numpy()\n",
    "\n",
    "        # --------------------------\n",
    "        #   Step 2 - Fit the model\n",
    "        # --------------------------\n",
    "\n",
    "        if separate:\n",
    "            outcome_train = data.loc[filter_train, 'outcome']\n",
    "            outcome_test = data.loc[filter_test, 'outcome']\n",
    "\n",
    "            # Train two separate regressors for defaulted and non-defaulted loans\n",
    "            X_train_0 = X_train[outcome_train == False]\n",
    "            y_train_0 = y_train[outcome_train == False]\n",
    "            X_test_0 = X_test[outcome_test == False]\n",
    "            y_test_0 = y_test[outcome_test == False]\n",
    "\n",
    "            X_train_1 = X_train[outcome_train == True]\n",
    "            y_train_1 = y_train[outcome_train == True]\n",
    "            X_test_1 = X_test[outcome_test == True]\n",
    "            y_test_1 = y_test[outcome_test == True]\n",
    "\n",
    "            cv_model_0 = GridSearchCV(model, cv_parameters, scoring='r2')\n",
    "            cv_model_1 = GridSearchCV(model, cv_parameters, scoring='r2')\n",
    "\n",
    "            start_time = time.time()\n",
    "            cv_model_0.fit(X_train_0, y_train_0)\n",
    "            cv_model_1.fit(X_train_1, y_train_1)\n",
    "            end_time = time.time()\n",
    "\n",
    "            best_model_0 = cv_model_0.best_estimator_\n",
    "            best_model_1 = cv_model_1.best_estimator_\n",
    "            \n",
    "            if print_to_screen:\n",
    "\n",
    "                if model_name != None:\n",
    "                    print(\"=========================================================\")\n",
    "                    print(\"  Model: \" + model_name + \"  Return column: \" + ret_col)\n",
    "                    print(\"=========================================================\")\n",
    "\n",
    "                print(\"Fit time: \" + str(round(end_time - start_time, 2)) + \" seconds\")\n",
    "                print(\"Optimal parameters:\")\n",
    "                print(\"model_0:\",cv_model_0.best_params_, \"model_1\",cv_model_1.best_params_)\n",
    "\n",
    "            predicted_regular_return = best_model_0.predict(X_test)\n",
    "            predicted_default_return = best_model_1.predict(X_test)\n",
    "            \n",
    "            if print_to_screen:\n",
    "                print(\"\")\n",
    "                print(\"Testing r2 scores:\")\n",
    "            # Here we use different testing set to report the performance\n",
    "            test_scores = {'model_0':r2_score(y_test_0,best_model_0.predict(X_test_0)),\n",
    "                              'model_1':r2_score(y_test_1,best_model_1.predict(X_test_1))}\n",
    "            if print_to_screen:\n",
    "                print(\"model_0:\", test_scores['model_0'])\n",
    "                print(\"model_1:\", test_scores['model_1'])\n",
    "\n",
    "            cv_objects = {'model_0':cv_model_0, 'model_1':cv_model_1}\n",
    "            out[ret_col] = { 'model_0':best_model_0, 'model_1':best_model_1, 'predicted_regular_return':predicted_regular_return,\n",
    "                      'predicted_default_return':predicted_default_return,'r2_scores':test_scores }\n",
    "\n",
    "        else:\n",
    "            cv_model = GridSearchCV(model, cv_parameters, scoring='r2')\n",
    "\n",
    "            start_time = time.time()\n",
    "            cv_model.fit(X_train, y_train)\n",
    "            end_time = time.time()\n",
    "\n",
    "            best_model = cv_model.best_estimator_\n",
    "            \n",
    "            if print_to_screen:\n",
    "                if model_name != None:\n",
    "                    print(\"=========================================================\")\n",
    "                    print(\"  Model: \" + model_name + \"  Return column: \" + ret_col)\n",
    "                    print(\"=========================================================\")\n",
    "\n",
    "                print(\"Fit time: \" + str(round(end_time - start_time, 2)) + \" seconds\")\n",
    "                print(\"Optimal parameters:\")\n",
    "                print(cv_model.best_params_)\n",
    "\n",
    "            predicted_return = best_model.predict(X_test)\n",
    "            test_scores = {'model':r2_score(y_test,predicted_return)}\n",
    "            if print_to_screen:\n",
    "                print(\"\")\n",
    "                print(\"Testing r2 score:\", test_scores['model'])\n",
    "\n",
    "            cv_objects = {'model':cv_model}\n",
    "            out[ret_col] = {'model':best_model, 'predicted_return':predicted_return, 'r2_scores':r2_score(y_test,predicted_return)}\n",
    "\n",
    "        # Output the results to a file\n",
    "        if output_to_file:\n",
    "            for i in cv_objects:\n",
    "                # Check whether any of the CV parameters are on the edge of\n",
    "                # the search space\n",
    "                opt_params_on_edge = find_opt_params_on_edge(cv_objects[i])\n",
    "                dump_to_output(model_name + \"::\" + ret_col + \"::search_on_edge\", opt_params_on_edge)\n",
    "                if print_to_screen:\n",
    "                    print(\"Were parameters on edge (\" + i + \") : \" + str(opt_params_on_edge))\n",
    "\n",
    "                # Find out how different the scores are for the different values\n",
    "                # tested for by cross-validation. If they're not too different, then\n",
    "                # even if the parameters are off the edge of the search grid, we should\n",
    "                # be ok\n",
    "                score_variation = find_score_variation(cv_objects[i])\n",
    "                dump_to_output(model_name + \"::\" + ret_col + \"::score_variation\", score_variation)\n",
    "                if print_to_screen:\n",
    "                    print(\"Score variations around CV search grid (\" + i + \") : \" + str(score_variation))\n",
    "\n",
    "                # Print out all the scores\n",
    "                dump_to_output(model_name + \"::all_cv_scores\", str(cv_objects[i].cv_results_['mean_test_score']))\n",
    "                if print_to_screen:\n",
    "                    print(\"All test scores : \" + str(cv_objects[i].cv_results_['mean_test_score']) )\n",
    "\n",
    "                # Dump the AUC to file\n",
    "                dump_to_output( model_name + \"::\" + ret_col + \"::r2\", test_scores[i] )\n",
    "\n",
    "    return out"
   ]
  },
  {
   "cell_type": "markdown",
   "metadata": {
    "colab_type": "text",
    "id": "hAzKnPnQIkf6"
   },
   "source": [
    "### Test Investments"
   ]
  },
  {
   "cell_type": "code",
   "execution_count": 16,
   "metadata": {
    "colab": {},
    "colab_type": "code",
    "id": "9x9wnU_COHn0"
   },
   "outputs": [],
   "source": [
    "def test_investments(data_dict,\n",
    "                        classifier = None,\n",
    "                        regressor = None,\n",
    "                        strategy = 'Random', \n",
    "                        num_loans = 1000,\n",
    "                        random_state = default_seed,\n",
    "                        output_to_file = True):\n",
    "    '''\n",
    "    This function tests a variety of investment methodologies and their returns. \n",
    "    It will run its tests on the loans defined by the test_set element of the data\n",
    "    dictionary.\n",
    "    \n",
    "    It is currently able to test four strategies\n",
    "      - random: invest in a random set of loans\n",
    "      - ranking: score each loan by probability of default, and only invest\n",
    "                 in the \"safest\" loans (i.e., those with the lowest probabilities\n",
    "                 of default)\n",
    "      - regression: train a single regression model to predict the expected return\n",
    "                    of loans in the past. Then, for loans we could invest in, simply\n",
    "                    rank them by their expected returns and invest in that order.\n",
    "      - two-stage: train two regression models to predict the expected return of\n",
    "                   defaulted loans and non-defaulted loans in the training set. Then,\n",
    "                   for each potential loan we could invest in, predict the probability\n",
    "                   the loan will default, its return if it doesn't default and its\n",
    "                   return if it does. Then, calculate a weighted combination of\n",
    "                   the latter using the former to find a predicted return. Rank the\n",
    "                   loans by this expected return, and invest in that order\n",
    "    \n",
    "    It expects the following parameters\n",
    "      - data_dict: the dictionary containing both training and testing data;\n",
    "                   returned by the prepare_data function\n",
    "      - classifier: a fitted model object which is returned by the fit_classification function.\n",
    "      - regressor: a fitted model object which is returned by the fit_regression function.\n",
    "      - strategy: the name of the strategy; one of the three listed above\n",
    "      - num_loans: the number of loans to be included in the test portfolio\n",
    "      - num_samples: the number of random samples used to compute average return ()   \n",
    "      - random_state: the random seed to use when selecting a subset of rows\n",
    "      - output_to_file: if the results will be saved to the output file\n",
    "      \n",
    "    The function returns a dictionary FOR EACH RETURN DEFINITION with the following entries\n",
    "      - strategy: the name of the strategy\n",
    "      - average return: the return of the strategy based on the testing set\n",
    "      - test data: the updated Dataframe of testing data. Useful in the optimization section\n",
    "    '''\n",
    "    \n",
    "    np.random.seed(random_state)\n",
    "    \n",
    "    # Retrieve the rows that were used to train and test  the\n",
    "    # classification model\n",
    "    train_set = data_dict['train_set']\n",
    "    test_set = data_dict['test_set']\n",
    "    \n",
    "    col_list = ['ret_PESS', 'ret_OPT', 'ret_INTa', 'ret_INTb']\n",
    "    \n",
    "    # Create a dataframe for testing, including the score\n",
    "    data_test = data.loc[test_set,:]\n",
    "    out = {}\n",
    "    \n",
    "    for ret_col in col_list:    \n",
    "    \n",
    "        if strategy == 'Random':\n",
    "            # Randomize the order of the rows in the datframe\n",
    "            data_test = data_test.sample(frac = 1).reset_index(drop = True)\n",
    "\n",
    "            # Select num_loans to invest in\n",
    "            pf_test = data_test[['amount_borrowed',ret_col]].iloc[:num_loans]\n",
    "\n",
    "            # Find the average return for these loans\n",
    "            ret_test = np.dot(pf_test[ret_col],pf_test.amount_borrowed)/np.sum(pf_test.amount_borrowed)\n",
    "\n",
    "            # Return\n",
    "            out[ret_col] = {'strategy':strategy, 'average return':ret_test}\n",
    "\n",
    "            # Dump the strategy performance to file\n",
    "            if output_to_file:\n",
    "                dump_to_output(strategy + \",\" + ret_col + \"::average return\", ret_test )\n",
    "\n",
    "            continue\n",
    "        \n",
    "        elif strategy == 'Regression':\n",
    "            \n",
    "            colname = 'predicted_return_' + ret_col \n",
    "\n",
    "            data_test[colname] = regressor[ret_col]['predicted_return']\n",
    "\n",
    "            # Sort the loans by predicted return\n",
    "            data_test = data_test.sort_values(by=colname, ascending = False).reset_index(drop = True)\n",
    "\n",
    "            # Pick num_loans loans\n",
    "            pf_test = data_test[['amount_borrowed',ret_col]].iloc[:num_loans]\n",
    "\n",
    "            # Find their return\n",
    "            ret_test = np.dot(pf_test[ret_col],pf_test.amount_borrowed)/np.sum(pf_test.amount_borrowed)\n",
    "\n",
    "            # Return\n",
    "            out[ret_col] = {'strategy':strategy, 'average return':ret_test, 'test data':data_test}\n",
    "\n",
    "            # Dump the strategy performance to file\n",
    "            if output_to_file:\n",
    "                dump_to_output(strategy + \",\" + ret_col + \"::average return\", ret_test )\n",
    "\n",
    "            continue\n",
    "            \n",
    "        # Get the predicted scores, if the strategy is not Random or just Regression\n",
    "        try:\n",
    "            y_pred_score = classifier['y_pred_probs']\n",
    "        except:\n",
    "            y_pred_score = classifier['y_pred_score']\n",
    "\n",
    "        data_test['score'] = y_pred_score\n",
    "\n",
    "\n",
    "        if strategy == 'Ranking':\n",
    "            # Sort the test data by the score\n",
    "            data_test = data_test.sort_values(by='score').reset_index(drop = True)\n",
    "\n",
    "            # Select num_loans to invest in\n",
    "            pf_test = data_test[['amount_borrowed',ret_col]].iloc[:num_loans]\n",
    "\n",
    "            # Find the average return for these loans\n",
    "            ret_test = np.dot(pf_test[ret_col],pf_test.amount_borrowed)/np.sum(pf_test.amount_borrowed)\n",
    "\n",
    "            # Return\n",
    "            out[ret_col] = {'strategy':strategy, 'average return':ret_test}\n",
    "\n",
    "            # Dump the strategy performance to file\n",
    "            if output_to_file:\n",
    "                dump_to_output(strategy + \",\" + ret_col + \"::average return\", ret_test )\n",
    "\n",
    "            continue\n",
    "\n",
    "\n",
    "        elif strategy == 'Two-stage':\n",
    "\n",
    "            # Load the predicted returns\n",
    "            data_test['predicted_regular_return'] = regressor[ret_col]['predicted_regular_return']\n",
    "            data_test['predicted_default_return'] = regressor[ret_col]['predicted_default_return']\n",
    "\n",
    "            # Compute expectation\n",
    "            colname = 'predicted_return_' + ret_col \n",
    "            \n",
    "            data_test[colname] = ( (1-data_test.score)*data_test.predicted_regular_return + \n",
    "                                             data_test.score*data_test.predicted_default_return )\n",
    "\n",
    "            # Sort the loans by predicted return\n",
    "            data_test = data_test.sort_values(by=colname, ascending = False).reset_index(drop = True)\n",
    "\n",
    "            # Pick num_loans loans\n",
    "            pf_test = data_test[['amount_borrowed',ret_col]].iloc[:num_loans]\n",
    "\n",
    "            # Find their return\n",
    "            ret_test = np.dot(pf_test[ret_col],pf_test.amount_borrowed)/np.sum(pf_test.amount_borrowed)\n",
    "\n",
    "            # Return\n",
    "            out[ret_col] = {'strategy':strategy, 'average return':ret_test, 'test data':data_test}\n",
    "\n",
    "            # Dump the strategy performance to file\n",
    "            if output_to_file:\n",
    "                dump_to_output(strategy + \",\" + ret_col + \"::average return\", ret_test )\n",
    "\n",
    "            continue\n",
    "\n",
    "        elif strategy == 'Crystal-ball':\n",
    "\n",
    "            # Sort the loans by realized return\n",
    "            data_test = data_test.sort_values(by=ret_col, ascending = False).reset_index(drop = True)\n",
    "\n",
    "            # Pick num_loans loans\n",
    "            pf_test = data_test[['amount_borrowed',ret_col]].iloc[:num_loans]\n",
    "\n",
    "            # Find their return\n",
    "            ret_test = np.dot(pf_test[ret_col],pf_test.amount_borrowed)/np.sum(pf_test.amount_borrowed)\n",
    "\n",
    "            # Return\n",
    "            out[ret_col] = {'strategy':strategy, 'average return':ret_test}\n",
    "\n",
    "            # Dump the strategy performance to file\n",
    "            if output_to_file:\n",
    "                dump_to_output(strategy + \",\" + ret_col + \"::average return\", ret_test )\n",
    "\n",
    "            continue\n",
    "\n",
    "        else:\n",
    "            return 'Not a valid strategy'\n",
    "        \n",
    "    return out"
   ]
  },
  {
   "cell_type": "markdown",
   "metadata": {
    "colab_type": "text",
    "id": "LQ3zaxQeOHn3"
   },
   "source": [
    "## Baseline models\n",
    "See how well we do using grade or interest rate only"
   ]
  },
  {
   "cell_type": "markdown",
   "metadata": {
    "colab_type": "text",
    "id": "g2pLvqYnOHn4"
   },
   "source": [
    "### Grade"
   ]
  },
  {
   "cell_type": "code",
   "execution_count": 17,
   "metadata": {
    "colab": {
     "base_uri": "https://localhost:8080/",
     "height": 750
    },
    "colab_type": "code",
    "id": "2RymFjamOHn4",
    "outputId": "d1b7df91-6052-436f-a12b-58c6a87c64a2",
    "scrolled": true
   },
   "outputs": [
    {
     "name": "stdout",
     "output_type": "stream",
     "text": [
      "=========================================================\n",
      "  Model: Grade only logistic l2\n",
      "=========================================================\n",
      "Fit time: 0.24 seconds\n",
      "Optimal parameters:\n",
      "{}\n",
      "\n",
      "Accuracy-maximizing threshold was: 1\n",
      "Accuracy:  0.84895\n",
      "              precision    recall  f1-score   support\n",
      "\n",
      "  No default     0.8489    1.0000    0.9183     16979\n",
      "     Default     0.0000    0.0000    0.0000      3021\n",
      "\n",
      "    accuracy                         0.8489     20000\n",
      "   macro avg     0.4245    0.5000    0.4592     20000\n",
      "weighted avg     0.7207    0.8489    0.7796     20000\n",
      "\n"
     ]
    },
    {
     "data": {
      "image/png": "[encoded data removed]",
      "text/plain": [
       "<Figure size 936x324 with 4 Axes>"
      ]
     },
     "metadata": {
      "needs_background": "light"
     },
     "output_type": "display_data"
    },
    {
     "name": "stdout",
     "output_type": "stream",
     "text": [
      "\n",
      "Similarity to LC grade ranking:  0.8863989075158132\n",
      "Brier score: 0.12373502386731795\n",
      "Were parameters on edge? : False\n",
      "Score variations around CV search grid : 0.0\n",
      "[0.8499]\n"
     ]
    }
   ],
   "source": [
    "data_dict = prepare_data(feature_subset=['grade'])\n",
    "grade_only_logistic = LogisticRegression(penalty = 'l2', C=np.inf, solver='lbfgs')\n",
    "\n",
    "grade_only_logistic = fit_classification(grade_only_logistic,data_dict,\n",
    "                                         model_name = 'Grade only logistic l2')\n"
   ]
  },
  {
   "cell_type": "markdown",
   "metadata": {},
   "source": [
    "### Interest rate"
   ]
  },
  {
   "cell_type": "code",
   "execution_count": 18,
   "metadata": {
    "colab": {
     "base_uri": "https://localhost:8080/",
     "height": 750
    },
    "colab_type": "code",
    "id": "k1HMcaSNOHn7",
    "outputId": "3613329f-5607-4a63-be22-00bf2af467f1"
   },
   "outputs": [
    {
     "name": "stdout",
     "output_type": "stream",
     "text": [
      "=========================================================\n",
      "  Model: Interest rate only logistics l2\n",
      "=========================================================\n",
      "Fit time: 0.11 seconds\n",
      "Optimal parameters:\n",
      "{}\n",
      "\n",
      "Accuracy-maximizing threshold was: 1\n",
      "Accuracy:  0.84895\n",
      "              precision    recall  f1-score   support\n",
      "\n",
      "  No default     0.8489    1.0000    0.9183     16979\n",
      "     Default     0.0000    0.0000    0.0000      3021\n",
      "\n",
      "    accuracy                         0.8489     20000\n",
      "   macro avg     0.4245    0.5000    0.4592     20000\n",
      "weighted avg     0.7207    0.8489    0.7796     20000\n",
      "\n"
     ]
    },
    {
     "data": {
      "image/png": "[encoded data removed]",
      "text/plain": [
       "<Figure size 936x324 with 4 Axes>"
      ]
     },
     "metadata": {
      "needs_background": "light"
     },
     "output_type": "display_data"
    },
    {
     "name": "stdout",
     "output_type": "stream",
     "text": [
      "\n",
      "Similarity to LC grade ranking:  0.7919594781733205\n",
      "Brier score: 0.1248645919851115\n",
      "Were parameters on edge? : False\n",
      "Score variations around CV search grid : 0.0\n",
      "[0.8499]\n"
     ]
    }
   ],
   "source": [
    "data_dict = prepare_data(feature_subset=['borrower_rate'])\n",
    "interest_only_logistic = LogisticRegression(penalty = 'l2', C=np.inf, solver='lbfgs')\n",
    "\n",
    "interest_only_logistic = fit_classification(interest_only_logistic, data_dict, \n",
    "                                   model_name = 'Interest rate only logistics l2')"
   ]
  },
  {
   "cell_type": "markdown",
   "metadata": {
    "colab_type": "text",
    "id": "5J2VaiP9OHn9"
   },
   "source": [
    "## Test models without grade or interest rate"
   ]
  },
  {
   "cell_type": "code",
   "execution_count": 19,
   "metadata": {
    "colab": {},
    "colab_type": "code",
    "id": "Xt7V9BpDOHn-"
   },
   "outputs": [],
   "source": [
    "final_features = [i for i in discrete_features + continuous_features if i not in [\"grade\", \"borrower_rate\"]]\n",
    "#final_features = [i for i in discrete_features + continuous_features]\n",
    "#final_features = pd.DataFrame(data[final_features])\n",
    "#final_features\n",
    "data_dict = prepare_data(feature_subset = final_features)\n",
    "\n",
    "all_features = pd.Series(continuous_features + discrete_features_dummies)\n",
    "idx = [i for i, j in enumerate(continuous_features + discrete_features_dummies)\n",
    "                                                     if j.split(\"::\")[0] in final_features]\n",
    "selected_features = all_features[idx]\n",
    "selected_features.reset_index(drop=True,inplace=True)"
   ]
  },
  {
   "cell_type": "markdown",
   "metadata": {
    "colab_type": "text",
    "id": "50f1R8xNOHoA"
   },
   "source": [
    "### Ridge Classifier"
   ]
  },
  {
   "cell_type": "code",
   "execution_count": 20,
   "metadata": {
    "colab": {
     "base_uri": "https://localhost:8080/",
     "height": 354
    },
    "colab_type": "code",
    "id": "db62ZPjEOHoA",
    "outputId": "96b0157a-c048-4c19-8a5e-0e0a0a51595c"
   },
   "outputs": [
    {
     "name": "stdout",
     "output_type": "stream",
     "text": [
      "=========================================================\n",
      "  Model: Ridge Classifier\n",
      "=========================================================\n",
      "Fit time: 0.64 seconds\n",
      "Optimal parameters:\n",
      "{'alpha': 166.81005372000558}\n",
      "\n",
      "Accuracy:  0.84895\n",
      "              precision    recall  f1-score   support\n",
      "\n",
      "  No default     0.8489    1.0000    0.9183     16979\n",
      "     Default     0.0000    0.0000    0.0000      3021\n",
      "\n",
      "    accuracy                         0.8489     20000\n",
      "   macro avg     0.4245    0.5000    0.4592     20000\n",
      "weighted avg     0.7207    0.8489    0.7796     20000\n",
      "\n",
      "\n",
      "Similarity to LC grade ranking:  0.1926358825472961\n"
     ]
    }
   ],
   "source": [
    "ridge_classifier = RidgeClassifier()\n",
    "cv_parameters = {\"alpha\":np.logspace(-4, 4, num = 10)}\n",
    "\n",
    "ridge_classifier = fit_classification(ridge_classifier, data_dict, \n",
    "                             cv_parameters = cv_parameters, model_name = \"Ridge Classifier\")"
   ]
  },
  {
   "cell_type": "markdown",
   "metadata": {
    "colab_type": "text",
    "id": "jeEwqKzXOHoC"
   },
   "source": [
    "### Naive Bayes"
   ]
  },
  {
   "cell_type": "code",
   "execution_count": 21,
   "metadata": {
    "colab": {
     "base_uri": "https://localhost:8080/",
     "height": 750
    },
    "colab_type": "code",
    "id": "w9pD1VwTOHoD",
    "outputId": "9eb1a36d-33af-407c-d393-d400eb546f28"
   },
   "outputs": [
    {
     "name": "stdout",
     "output_type": "stream",
     "text": [
      "=========================================================\n",
      "  Model: Gaussian Naive Bayes\n",
      "=========================================================\n",
      "Fit time: 0.06 seconds\n",
      "Optimal parameters:\n",
      "{}\n",
      "\n",
      "Accuracy-maximizing threshold was: 1\n",
      "Accuracy:  0.84895\n",
      "              precision    recall  f1-score   support\n",
      "\n",
      "  No default     0.8489    1.0000    0.9183     16979\n",
      "     Default     0.0000    0.0000    0.0000      3021\n",
      "\n",
      "    accuracy                         0.8489     20000\n",
      "   macro avg     0.4245    0.5000    0.4592     20000\n",
      "weighted avg     0.7207    0.8489    0.7796     20000\n",
      "\n"
     ]
    },
    {
     "data": {
      "image/png": "[encoded data removed]",
      "text/plain": [
       "<Figure size 936x324 with 4 Axes>"
      ]
     },
     "metadata": {
      "needs_background": "light"
     },
     "output_type": "display_data"
    },
    {
     "name": "stdout",
     "output_type": "stream",
     "text": [
      "\n",
      "Similarity to LC grade ranking:  0.17502946948272416\n",
      "Brier score: 0.13498558967104715\n",
      "Were parameters on edge? : False\n",
      "Score variations around CV search grid : 0.0\n",
      "[0.8421]\n"
     ]
    }
   ],
   "source": [
    "gnb = GaussianNB()\n",
    "gnb = fit_classification(gnb, data_dict,\n",
    "                model_name = \"Gaussian Naive Bayes\")\n"
   ]
  },
  {
   "cell_type": "markdown",
   "metadata": {
    "colab_type": "text",
    "id": "UfWlQzleflDv"
   },
   "source": [
    "### $l_1$ penalized logistic regression"
   ]
  },
  {
   "cell_type": "code",
   "execution_count": 22,
   "metadata": {
    "colab": {},
    "colab_type": "code",
    "id": "en2t0F-2OHoG"
   },
   "outputs": [],
   "source": [
    "# l1_logistic = LogisticRegression(penalty = 'l1')\n",
    "# cv_parameters = {\"C\":np.logspace(0, 6, num = 10)}\n",
    "\n",
    "# l1_logistic = fit_classification(l1_logistic, data_dict,\n",
    "#                         cv_parameters = cv_parameters, model_name = \"l1 Penalized Logistic Regression\")"
   ]
  },
  {
   "cell_type": "markdown",
   "metadata": {
    "colab_type": "text",
    "id": "X9m4vg9qOHoI"
   },
   "source": [
    "### $l_2$ penalized logistic regression"
   ]
  },
  {
   "cell_type": "code",
   "execution_count": 23,
   "metadata": {
    "colab": {
     "base_uri": "https://localhost:8080/",
     "height": 767
    },
    "colab_type": "code",
    "id": "yDfZbfMZOHoI",
    "outputId": "13707c3c-7c29-4149-f2cf-9de65f871c12"
   },
   "outputs": [
    {
     "name": "stdout",
     "output_type": "stream",
     "text": [
      "=========================================================\n",
      "  Model: l2 Penalized Logistic Regression\n",
      "=========================================================\n",
      "Fit time: 1.51 seconds\n",
      "Optimal parameters:\n",
      "{'C': 0.0001}\n",
      "\n",
      "Accuracy-maximizing threshold was: 0.1590103006760455\n",
      "Accuracy:  0.8491\n",
      "              precision    recall  f1-score   support\n",
      "\n",
      "  No default     0.8493    0.9996    0.9184     16979\n",
      "     Default     0.6000    0.0030    0.0059      3021\n",
      "\n",
      "    accuracy                         0.8491     20000\n",
      "   macro avg     0.7246    0.5013    0.4621     20000\n",
      "weighted avg     0.8116    0.8491    0.7805     20000\n",
      "\n"
     ]
    },
    {
     "data": {
      "image/png": "[encoded data removed]",
      "text/plain": [
       "<Figure size 936x324 with 4 Axes>"
      ]
     },
     "metadata": {
      "needs_background": "light"
     },
     "output_type": "display_data"
    },
    {
     "name": "stdout",
     "output_type": "stream",
     "text": [
      "\n",
      "Similarity to LC grade ranking:  0.21978648492929584\n",
      "Brier score: 0.12782571325642217\n",
      "Were parameters on edge? : True\n",
      "Score variations around CV search grid : 0.3686708240185236\n",
      "[0.8499     0.8499     0.8499     0.8499     0.849      0.84743333\n",
      " 0.84696667 0.84676667 0.84676667 0.84676667]\n"
     ]
    }
   ],
   "source": [
    "l2_logistic = LogisticRegression(penalty = 'l2')\n",
    "cv_parameters = {\"C\":np.logspace(-4, 4, num = 10)}\n",
    "\n",
    "l2_logistic = fit_classification(l2_logistic, data_dict,\n",
    "                        cv_parameters = cv_parameters, model_name = \"l2 Penalized Logistic Regression\")"
   ]
  },
  {
   "cell_type": "code",
   "execution_count": 24,
   "metadata": {
    "colab": {
     "base_uri": "https://localhost:8080/",
     "height": 328
    },
    "colab_type": "code",
    "id": "P8csMCJeOHoL",
    "outputId": "f48fd537-370e-471e-b94a-12030c0d67ea"
   },
   "outputs": [
    {
     "data": {
      "image/png": "[encoded data removed]",
      "text/plain": [
       "<Figure size 432x288 with 1 Axes>"
      ]
     },
     "metadata": {
      "needs_background": "light"
     },
     "output_type": "display_data"
    }
   ],
   "source": [
    "## plot top 3 features with the most positive (and negative) weights \n",
    "top_and_bottom_idx = list(np.argsort(l2_logistic['model'].coef_)[0,:3]) + list(np.argsort(l2_logistic['model'].coef_)[0,-3:])\n",
    "bplot = pd.Series(l2_logistic['model'].coef_[0,top_and_bottom_idx])\n",
    "xticks = selected_features[top_and_bottom_idx]\n",
    "p1 = bplot.plot(kind='bar',rot=-30,ylim=(-5,10))\n",
    "p1.set_xticklabels(xticks)\n",
    "plt.show()"
   ]
  },
  {
   "cell_type": "markdown",
   "metadata": {
    "colab_type": "text",
    "id": "8d7QM_fYOHoO"
   },
   "source": [
    "### Decision tree"
   ]
  },
  {
   "cell_type": "code",
   "execution_count": 25,
   "metadata": {
    "colab": {
     "base_uri": "https://localhost:8080/",
     "height": 767
    },
    "colab_type": "code",
    "id": "eNlEMsWEOHoO",
    "outputId": "38c35d8e-30b6-4605-abb8-d52e320f0369"
   },
   "outputs": [
    {
     "name": "stdout",
     "output_type": "stream",
     "text": [
      "=========================================================\n",
      "  Model: Decision tree\n",
      "=========================================================\n",
      "Fit time: 0.89 seconds\n",
      "Optimal parameters:\n",
      "{'min_samples_leaf': 500}\n",
      "\n",
      "Accuracy-maximizing threshold was: 1\n",
      "Accuracy:  0.84895\n",
      "              precision    recall  f1-score   support\n",
      "\n",
      "  No default     0.8489    1.0000    0.9183     16979\n",
      "     Default     0.0000    0.0000    0.0000      3021\n",
      "\n",
      "    accuracy                         0.8489     20000\n",
      "   macro avg     0.4245    0.5000    0.4592     20000\n",
      "weighted avg     0.7207    0.8489    0.7796     20000\n",
      "\n"
     ]
    },
    {
     "data": {
      "image/png": "[encoded data removed]",
      "text/plain": [
       "<Figure size 936x324 with 4 Axes>"
      ]
     },
     "metadata": {
      "needs_background": "light"
     },
     "output_type": "display_data"
    },
    {
     "name": "stdout",
     "output_type": "stream",
     "text": [
      "\n",
      "Similarity to LC grade ranking:  0.16188419085472244\n",
      "Brier score: 0.1192939107245286\n",
      "Were parameters on edge? : True\n",
      "Score variations around CV search grid : 0.0\n",
      "[0.8499 0.8499 0.8499 0.8499 0.8499 0.8499 0.8499 0.8499 0.8499]\n"
     ]
    }
   ],
   "source": [
    "decision_tree = DecisionTreeClassifier()\n",
    "cv_parameters = {'min_samples_leaf':[500,600,700,800,900,1000, 1100, 1200, 1300]}\n",
    "\n",
    "decision_tree = fit_classification(decision_tree, data_dict, \n",
    "                          cv_parameters = cv_parameters, model_name = \"Decision tree\")"
   ]
  },
  {
   "cell_type": "code",
   "execution_count": 26,
   "metadata": {
    "colab": {
     "base_uri": "https://localhost:8080/",
     "height": 363
    },
    "colab_type": "code",
    "id": "zuFpkVYNOHoR",
    "outputId": "b5a113c3-3933-4540-ed03-aaf12f69534d"
   },
   "outputs": [],
   "source": [
    "# Visualize the decision tree\n",
    "# Zooming-in is allowed by double click\n",
    "\n",
    "# dot_data = StringIO()\n",
    "# export_graphviz(decision_tree['model'], out_file=dot_data,  \n",
    "#                 filled=True, rounded=True,\n",
    "#                 special_characters=True)\n",
    "# graph = pydotplus.graph_from_dot_data(dot_data.getvalue())  \n",
    "# Image(graph.create_png())"
   ]
  },
  {
   "cell_type": "markdown",
   "metadata": {
    "colab_type": "text",
    "id": "h0ysKCmVOHoT"
   },
   "source": [
    "### Random forest"
   ]
  },
  {
   "cell_type": "code",
   "execution_count": 27,
   "metadata": {
    "colab": {
     "base_uri": "https://localhost:8080/",
     "height": 874
    },
    "colab_type": "code",
    "id": "aICoj-cFOHoT",
    "outputId": "af1063d2-7568-4d65-b4a8-b77cdff0e6f6"
   },
   "outputs": [
    {
     "name": "stdout",
     "output_type": "stream",
     "text": [
      "=========================================================\n",
      "  Model: Random forest\n",
      "=========================================================\n",
      "Fit time: 315.35 seconds\n",
      "Optimal parameters:\n",
      "{'min_samples_leaf': 20, 'n_estimators': 100}\n",
      "\n",
      "Accuracy-maximizing threshold was: 0.3857648186064266\n",
      "Accuracy:  0.84975\n",
      "              precision    recall  f1-score   support\n",
      "\n",
      "  No default     0.8629    0.9785    0.9171     16979\n",
      "     Default     0.5107    0.1261    0.2023      3021\n",
      "\n",
      "    accuracy                         0.8498     20000\n",
      "   macro avg     0.6868    0.5523    0.5597     20000\n",
      "weighted avg     0.8097    0.8498    0.8091     20000\n",
      "\n"
     ]
    },
    {
     "data": {
      "image/png": "[encoded data removed]",
      "text/plain": [
       "<Figure size 936x324 with 4 Axes>"
      ]
     },
     "metadata": {
      "needs_background": "light"
     },
     "output_type": "display_data"
    },
    {
     "name": "stdout",
     "output_type": "stream",
     "text": [
      "\n",
      "Similarity to LC grade ranking:  0.15449947428141564\n",
      "Brier score: 0.11452158176917314\n",
      "Were parameters on edge? : False\n",
      "Score variations around CV search grid : 6.463729556303314\n",
      "[0.79743333 0.79893333 0.79796667 0.79686667 0.7978     0.8325\n",
      " 0.835      0.8341     0.83386667 0.8344     0.84353333 0.84403333\n",
      " 0.84393333 0.84333333 0.8441     0.84846667 0.8489     0.8491\n",
      " 0.8494     0.8494     0.8507     0.85083333 0.85063333 0.85106667\n",
      " 0.85076667 0.8515     0.85176667 0.85146667 0.8513     0.85146667\n",
      " 0.85133333 0.85186667 0.851      0.8518     0.8519     0.85156667\n",
      " 0.8518     0.85186667 0.85193333 0.85153333 0.8504     0.85106667\n",
      " 0.85076667 0.8508     0.85066667]\n"
     ]
    }
   ],
   "source": [
    "random_forest = RandomForestClassifier()\n",
    "cv_parameters = {'min_samples_leaf':[1, 2, 3, 5, 8, 13, 17, 20, 40], 'n_estimators': [35, 60, 80, 100, 150] }\n",
    "\n",
    "random_forest = fit_classification(random_forest, data_dict,\n",
    "                                   cv_parameters=cv_parameters, model_name=\"Random forest\")"
   ]
  },
  {
   "cell_type": "code",
   "execution_count": 28,
   "metadata": {
    "colab": {
     "base_uri": "https://localhost:8080/",
     "height": 314
    },
    "colab_type": "code",
    "id": "kxLmarCvOHoW",
    "outputId": "c511e96f-50d2-4948-e746-f993cf2ba812"
   },
   "outputs": [
    {
     "data": {
      "image/png": "[encoded data removed]",
      "text/plain": [
       "<Figure size 432x288 with 1 Axes>"
      ]
     },
     "metadata": {
      "needs_background": "light"
     },
     "output_type": "display_data"
    }
   ],
   "source": [
    "## Plot top 6 most significant features\n",
    "top_idx = list(np.argsort(random_forest['model'].feature_importances_)[-6:]) \n",
    "bplot = pd.Series(random_forest['model'].feature_importances_[top_idx])\n",
    "xticks = selected_features[top_idx]\n",
    "p2 = bplot.plot(kind='bar',rot=-30,ylim=(0,0.2))\n",
    "p2.set_xticklabels(xticks)\n",
    "plt.show()"
   ]
  },
  {
   "cell_type": "code",
   "execution_count": 29,
   "metadata": {
    "colab": {
     "base_uri": "https://localhost:8080/",
     "height": 211
    },
    "colab_type": "code",
    "id": "QxPoR-QWOHoY",
    "outputId": "59a5d815-0663-4b48-b8f9-4419f7bc49cd"
   },
   "outputs": [],
   "source": [
    "# ## A decision tree trained on the scores of random forest\n",
    "# trepin_tree = DecisionTreeClassifier(min_samples_leaf = 100, max_depth = 4)\n",
    "# trepin_tree.fit(random_forest['y_pred_probs'].reshape(-1,1),data_dict['y_test'])\n",
    "# dot_data = StringIO()\n",
    "# export_graphviz(trepin_tree, out_file=dot_data,  \n",
    "#                 filled=True, rounded=True,\n",
    "#                 special_characters=True)\n",
    "# graph = pydotplus.graph_from_dot_data(dot_data.getvalue())  \n",
    "# Image(graph.create_png())"
   ]
  },
  {
   "cell_type": "markdown",
   "metadata": {
    "colab_type": "text",
    "id": "Hr0XQGnbOHob"
   },
   "source": [
    "### Bagged trees"
   ]
  },
  {
   "cell_type": "code",
   "execution_count": 30,
   "metadata": {
    "colab": {
     "base_uri": "https://localhost:8080/",
     "height": 838
    },
    "colab_type": "code",
    "id": "74EE6Fr4OHob",
    "outputId": "4eef35ef-e35b-4440-d994-9e0d1b09ca56"
   },
   "outputs": [
    {
     "name": "stdout",
     "output_type": "stream",
     "text": [
      "=========================================================\n",
      "  Model: Bagged trees\n",
      "=========================================================\n",
      "Fit time: 672.27 seconds\n",
      "Optimal parameters:\n",
      "{'min_samples_leaf': 50, 'n_estimators': 200}\n",
      "\n",
      "Accuracy-maximizing threshold was: 0.4741333189559673\n",
      "Accuracy:  0.85195\n",
      "              precision    recall  f1-score   support\n",
      "\n",
      "  No default     0.8573    0.9905    0.9191     16979\n",
      "     Default     0.5785    0.0732    0.1299      3021\n",
      "\n",
      "    accuracy                         0.8519     20000\n",
      "   macro avg     0.7179    0.5318    0.5245     20000\n",
      "weighted avg     0.8152    0.8519    0.7999     20000\n",
      "\n"
     ]
    },
    {
     "data": {
      "image/png": "[encoded data removed]",
      "text/plain": [
       "<Figure size 936x324 with 4 Axes>"
      ]
     },
     "metadata": {
      "needs_background": "light"
     },
     "output_type": "display_data"
    },
    {
     "name": "stdout",
     "output_type": "stream",
     "text": [
      "\n",
      "Similarity to LC grade ranking:  0.14681397985135544\n",
      "Brier score: 0.11521947939687466\n",
      "Were parameters on edge? : False\n",
      "Score variations around CV search grid : 0.9870353687673765\n",
      "[0.84336667 0.84263333 0.8439     0.84353333 0.84363333 0.84843333\n",
      " 0.84823333 0.8478     0.84843333 0.84856667 0.8505     0.8506\n",
      " 0.85033333 0.8505     0.8504     0.8507     0.85096667 0.85076667\n",
      " 0.85103333 0.8509     0.8501     0.85036667 0.85       0.85006667\n",
      " 0.85023333 0.84953333 0.84956667 0.84946667 0.84946667 0.84956667\n",
      " 0.8498     0.8499     0.8499     0.8498     0.84983333]\n"
     ]
    }
   ],
   "source": [
    "bagged_trees = RandomForestClassifier(max_features = 1.0)\n",
    "cv_parameters = {'min_samples_leaf':[5, 10, 25, 50, 75, 100, 200], 'n_estimators': [60, 100, 150, 200, 300] }\n",
    "\n",
    "bagged_trees = fit_classification(bagged_trees, data_dict,\n",
    "                                   cv_parameters=cv_parameters, model_name=\"Bagged trees\")"
   ]
  },
  {
   "cell_type": "markdown",
   "metadata": {
    "colab_type": "text",
    "id": "ZqhpS5p8OHod"
   },
   "source": [
    "### Multi-layer perceptron"
   ]
  },
  {
   "cell_type": "code",
   "execution_count": 31,
   "metadata": {
    "colab": {
     "base_uri": "https://localhost:8080/",
     "height": 750
    },
    "colab_type": "code",
    "id": "gdeTZuPAOHoe",
    "outputId": "04b4da87-e775-4fda-ad0b-ef346dc49d88"
   },
   "outputs": [
    {
     "name": "stdout",
     "output_type": "stream",
     "text": [
      "=========================================================\n",
      "  Model: Multi-Layer Perceptron\n",
      "=========================================================\n",
      "Fit time: 411.03 seconds\n",
      "Optimal parameters:\n",
      "{'hidden_layer_sizes': 100}\n",
      "\n",
      "Accuracy-maximizing threshold was: 0.4861110408709919\n",
      "Accuracy:  0.85075\n",
      "              precision    recall  f1-score   support\n",
      "\n",
      "  No default     0.8566    0.9900    0.9184     16979\n",
      "     Default     0.5479    0.0682    0.1213      3021\n",
      "\n",
      "    accuracy                         0.8508     20000\n",
      "   macro avg     0.7022    0.5291    0.5199     20000\n",
      "weighted avg     0.8099    0.8508    0.7980     20000\n",
      "\n"
     ]
    },
    {
     "data": {
      "image/png": "[encoded data removed]",
      "text/plain": [
       "<Figure size 936x324 with 4 Axes>"
      ]
     },
     "metadata": {
      "needs_background": "light"
     },
     "output_type": "display_data"
    },
    {
     "name": "stdout",
     "output_type": "stream",
     "text": [
      "\n",
      "Similarity to LC grade ranking:  0.1481178386306645\n",
      "Brier score: 0.11662118241920238\n",
      "Were parameters on edge? : False\n",
      "Score variations around CV search grid : 0.13317143864320338\n",
      "[0.8499     0.8501     0.85046667 0.85103333 0.85046667 0.85076667]\n"
     ]
    }
   ],
   "source": [
    "mlp = MLPClassifier()\n",
    "cv_parameters = {'hidden_layer_sizes':[(1), (10), (50), (100), (5, 5), (10, 10)]}\n",
    "\n",
    "mlp = fit_classification(mlp, data_dict,\n",
    "                         cv_parameters = cv_parameters, model_name=\"Multi-Layer Perceptron\")"
   ]
  },
  {
   "cell_type": "markdown",
   "metadata": {
    "colab_type": "text",
    "id": "SjJG_B2ZQrEu"
   },
   "source": [
    "### Light GBM"
   ]
  },
  {
   "cell_type": "code",
   "execution_count": 32,
   "metadata": {},
   "outputs": [
    {
     "name": "stdout",
     "output_type": "stream",
     "text": [
      "=========================================================\n",
      "  Model: Light GBM\n",
      "=========================================================\n",
      "Fit time: 23.29 seconds\n",
      "Optimal parameters:\n",
      "{'n_estimators': 60, 'num_leaves': 20}\n",
      "\n",
      "Accuracy-maximizing threshold was: 0.4881470597056431\n",
      "Accuracy:  0.85185\n",
      "              precision    recall  f1-score   support\n",
      "\n",
      "  No default     0.8566    0.9914    0.9191     16979\n",
      "     Default     0.5829    0.0675    0.1210      3021\n",
      "\n",
      "    accuracy                         0.8518     20000\n",
      "   macro avg     0.7197    0.5295    0.5201     20000\n",
      "weighted avg     0.8153    0.8518    0.7986     20000\n",
      "\n"
     ]
    },
    {
     "data": {
      "image/png": "[encoded data removed]",
      "text/plain": [
       "<Figure size 936x324 with 4 Axes>"
      ]
     },
     "metadata": {
      "needs_background": "light"
     },
     "output_type": "display_data"
    },
    {
     "name": "stdout",
     "output_type": "stream",
     "text": [
      "\n",
      "Similarity to LC grade ranking:  0.1536271700878448\n",
      "Brier score: 0.11501730375121172\n",
      "Were parameters on edge? : False\n",
      "Score variations around CV search grid : nan\n",
      "[       nan 0.8511     0.85206667 0.85186667 0.8516            nan\n",
      " 0.85183333 0.8522     0.85133333 0.8517            nan 0.85173333\n",
      " 0.8519     0.85123333 0.85156667        nan 0.85206667 0.85156667\n",
      " 0.85206667 0.8517            nan 0.85206667 0.8518     0.85086667\n",
      " 0.8509    ]\n"
     ]
    }
   ],
   "source": [
    "import lightgbm as lgb\n",
    "from lightgbm import LGBMClassifier\n",
    "\n",
    "LightGBM = LGBMClassifier()\n",
    "cv_parameters = {'num_leaves':[1, 10, 20, 30, 40], 'n_estimators': [35, 60, 80, 100, 150] }\n",
    "\n",
    "LightGBM = fit_classification(LightGBM, data_dict,\n",
    "                                   cv_parameters=cv_parameters, model_name=\"Light GBM\")"
   ]
  },
  {
   "cell_type": "markdown",
   "metadata": {
    "colab_type": "text",
    "id": "enqUOtQ3OHoh"
   },
   "source": [
    "## Test regression models\n",
    "### Lasso-Lars regressor"
   ]
  },
  {
   "cell_type": "code",
   "execution_count": 33,
   "metadata": {
    "colab": {
     "base_uri": "https://localhost:8080/",
     "height": 870
    },
    "colab_type": "code",
    "id": "Kprj-kTgOHoi",
    "outputId": "362803a9-3797-4a8e-db9b-5cabdb04ec63"
   },
   "outputs": [
    {
     "name": "stdout",
     "output_type": "stream",
     "text": [
      "=========================================================\n",
      "  Model: Lasso  Return column: ret_PESS\n",
      "=========================================================\n",
      "Fit time: 0.28 seconds\n",
      "Optimal parameters:\n",
      "{'alpha': 1e-05}\n",
      "\n",
      "Testing r2 score: 0.15777175569802915\n",
      "Were parameters on edge (model) : False\n",
      "Score variations around CV search grid (model) : 108.73503712186032\n",
      "All test scores : [ 0.12391231  0.12391231  0.1246795   0.12906773  0.00250605 -0.01127411\n",
      " -0.01127411 -0.01127411]\n",
      "=========================================================\n",
      "  Model: Lasso  Return column: ret_OPT\n",
      "=========================================================\n",
      "Fit time: 0.32 seconds\n",
      "Optimal parameters:\n",
      "{'alpha': 1e-05}\n",
      "\n",
      "Testing r2 score: 0.021470588584063588\n",
      "Were parameters on edge (model) : False\n",
      "Score variations around CV search grid (model) : -2.632487185023721\n",
      "All test scores : [-0.08014381 -0.08014381 -0.07980375 -0.07859004 -0.08065891 -0.08065891\n",
      " -0.08065891 -0.08065891]\n",
      "=========================================================\n",
      "  Model: Lasso  Return column: ret_INTa\n",
      "=========================================================\n",
      "Fit time: 0.3 seconds\n",
      "Optimal parameters:\n",
      "{'alpha': 1e-05}\n",
      "\n",
      "Testing r2 score: 0.17361224970705003\n",
      "Were parameters on edge (model) : False\n",
      "Score variations around CV search grid (model) : 111.33402798354275\n",
      "All test scores : [ 0.1153231   0.1153231   0.11675571  0.12238064 -0.01267885 -0.01387066\n",
      " -0.01387066 -0.01387066]\n",
      "=========================================================\n",
      "  Model: Lasso  Return column: ret_INTb\n",
      "=========================================================\n",
      "Fit time: 0.34 seconds\n",
      "Optimal parameters:\n",
      "{'alpha': 1e-05}\n",
      "\n",
      "Testing r2 score: 0.1416995310879764\n",
      "Were parameters on edge (model) : False\n",
      "Score variations around CV search grid (model) : 123.06939059837619\n",
      "All test scores : [ 0.07653298  0.07653298  0.07789847  0.08338214 -0.01922039 -0.01923575\n",
      " -0.01923575 -0.01923575]\n"
     ]
    }
   ],
   "source": [
    "# First, trying LASSO penalized regression with a variety of parameters,\n",
    "# it becomes clear a simple regression is best\n",
    "\n",
    "cv_parameters = {'alpha': np.logspace(-8, -1, num = 8) }\n",
    "\n",
    "reg_lasso = fit_regression(linear_model.LassoLars(), data_dict,\n",
    "               cv_parameters = cv_parameters, separate = False, model_name = \"Lasso\")"
   ]
  },
  {
   "cell_type": "markdown",
   "metadata": {
    "colab_type": "text",
    "id": "qf-rKiyVOHol"
   },
   "source": [
    "### Ridge regressor"
   ]
  },
  {
   "cell_type": "code",
   "execution_count": 34,
   "metadata": {
    "colab": {
     "base_uri": "https://localhost:8080/",
     "height": 870
    },
    "colab_type": "code",
    "id": "v1_Bz4q-OHol",
    "outputId": "65580c4f-a2a1-459b-b02c-18dbacbd731e"
   },
   "outputs": [
    {
     "name": "stdout",
     "output_type": "stream",
     "text": [
      "=========================================================\n",
      "  Model: Ridge  Return column: ret_PESS\n",
      "=========================================================\n",
      "Fit time: 0.29 seconds\n",
      "Optimal parameters:\n",
      "{'alpha': 0.1}\n",
      "\n",
      "Testing r2 score: 0.17612661976804678\n",
      "Were parameters on edge (model) : True\n",
      "Score variations around CV search grid (model) : 0.05325241533362927\n",
      "All test scores : [0.12492967 0.12492967 0.12492967 0.12492967 0.12492974 0.12493034\n",
      " 0.12493635 0.12499623]\n",
      "=========================================================\n",
      "  Model: Ridge  Return column: ret_OPT\n",
      "=========================================================\n",
      "Fit time: 0.24 seconds\n",
      "Optimal parameters:\n",
      "{'alpha': 0.1}\n",
      "\n",
      "Testing r2 score: 0.02478052210025561\n",
      "Were parameters on edge (model) : True\n",
      "Score variations around CV search grid (model) : -0.031369333862783094\n",
      "All test scores : [-0.08014381 -0.08014381 -0.08014381 -0.08014381 -0.08014379 -0.08014356\n",
      " -0.08014129 -0.08011868]\n",
      "=========================================================\n",
      "  Model: Ridge  Return column: ret_INTa\n",
      "=========================================================\n",
      "Fit time: 0.27 seconds\n",
      "Optimal parameters:\n",
      "{'alpha': 0.1}\n",
      "\n",
      "Testing r2 score: 0.1856910463889362\n",
      "Were parameters on edge (model) : True\n",
      "Score variations around CV search grid (model) : 0.07750198154986125\n",
      "All test scores : [0.1153231  0.1153231  0.11532311 0.11532311 0.11532319 0.115324\n",
      " 0.11533208 0.11541255]\n",
      "=========================================================\n",
      "  Model: Ridge  Return column: ret_INTb\n",
      "=========================================================\n",
      "Fit time: 0.28 seconds\n",
      "Optimal parameters:\n",
      "{'alpha': 0.1}\n",
      "\n",
      "Testing r2 score: 0.15304869374759578\n",
      "Were parameters on edge (model) : True\n",
      "Score variations around CV search grid (model) : 0.10924594695323299\n",
      "All test scores : [0.07653298 0.07653298 0.07653298 0.07653299 0.07653306 0.07653382\n",
      " 0.07654138 0.07661668]\n"
     ]
    }
   ],
   "source": [
    "cv_parameters = {'alpha': np.logspace(-8, -1, num = 8) }\n",
    "\n",
    "reg_ridge = fit_regression(linear_model.Ridge(), data_dict,\n",
    "               cv_parameters = cv_parameters, separate = False, model_name = \"Ridge\")"
   ]
  },
  {
   "cell_type": "markdown",
   "metadata": {
    "colab_type": "text",
    "id": "St4lJVusOHop"
   },
   "source": [
    "### Ordinary least squares"
   ]
  },
  {
   "cell_type": "code",
   "execution_count": 35,
   "metadata": {
    "colab": {
     "base_uri": "https://localhost:8080/",
     "height": 798
    },
    "colab_type": "code",
    "id": "IgmzwBEZOHoq",
    "outputId": "d65aa069-529a-48ef-fa05-cfe1bcf89d5c"
   },
   "outputs": [
    {
     "name": "stdout",
     "output_type": "stream",
     "text": [
      "=========================================================\n",
      "  Model: Linear Regression  Return column: ret_PESS\n",
      "=========================================================\n",
      "Fit time: 0.06 seconds\n",
      "Optimal parameters:\n",
      "{}\n",
      "\n",
      "Testing r2 score: 0.17613361794005966\n",
      "Were parameters on edge (model) : False\n",
      "Score variations around CV search grid (model) : 0.0\n",
      "All test scores : [0.12504423]\n",
      "=========================================================\n",
      "  Model: Linear Regression  Return column: ret_OPT\n",
      "=========================================================\n",
      "Fit time: 0.05 seconds\n",
      "Optimal parameters:\n",
      "{}\n",
      "\n",
      "Testing r2 score: 0.024802562043752197\n",
      "Were parameters on edge (model) : False\n",
      "Score variations around CV search grid (model) : -0.0\n",
      "All test scores : [-0.08008129]\n",
      "=========================================================\n",
      "  Model: Linear Regression  Return column: ret_INTa\n",
      "=========================================================\n",
      "Fit time: 0.06 seconds\n",
      "Optimal parameters:\n",
      "{}\n",
      "\n",
      "Testing r2 score: 0.1856946108607851\n",
      "Were parameters on edge (model) : False\n",
      "Score variations around CV search grid (model) : 0.0\n",
      "All test scores : [0.11543783]\n",
      "=========================================================\n",
      "  Model: Linear Regression  Return column: ret_INTb\n",
      "=========================================================\n",
      "Fit time: 0.05 seconds\n",
      "Optimal parameters:\n",
      "{}\n",
      "\n",
      "Testing r2 score: 0.1530518011812041\n",
      "Were parameters on edge (model) : False\n",
      "Score variations around CV search grid (model) : 0.0\n",
      "All test scores : [0.07665579]\n"
     ]
    }
   ],
   "source": [
    "reg_linear = fit_regression(linear_model.LinearRegression(), data_dict,\n",
    "               separate = False, model_name = \"Linear Regression\")"
   ]
  },
  {
   "cell_type": "markdown",
   "metadata": {
    "colab_type": "text",
    "id": "VLSXyWpPOHos"
   },
   "source": [
    "### Multi-layer perceptron regressor"
   ]
  },
  {
   "cell_type": "code",
   "execution_count": 36,
   "metadata": {
    "colab": {
     "base_uri": "https://localhost:8080/",
     "height": 1000
    },
    "colab_type": "code",
    "id": "PUxnDFr_OHot",
    "outputId": "9873e10b-e5ed-481c-97a2-04c0c9f7f153"
   },
   "outputs": [
    {
     "name": "stdout",
     "output_type": "stream",
     "text": [
      "=========================================================\n",
      "  Model: Multi-Layer Perceptron  Return column: ret_PESS\n",
      "=========================================================\n",
      "Fit time: 334.59 seconds\n",
      "Optimal parameters:\n",
      "{'alpha': 0.001, 'hidden_layer_sizes': 200}\n",
      "\n",
      "Testing r2 score: 0.2390840438207419\n",
      "Were parameters on edge (model) : True\n",
      "Score variations around CV search grid (model) : 110.26381391022588\n",
      "All test scores : [-2.92860800e-03  9.65928397e-02  1.77056197e-01  1.98610613e-01\n",
      "  2.17835393e-01  3.05718326e-02  1.60968950e-01  8.34271175e-03\n",
      "  7.06226741e-02  1.57758075e-01  2.05444729e-01  1.51339048e-01\n",
      "  1.06082805e-01  1.45484558e-01 -9.59442317e-03  1.14018881e-01\n",
      "  1.13556270e-01  1.41529363e-01  1.23240542e-01  1.08668746e-01\n",
      "  1.45887762e-01 -2.79680597e-03  6.94653973e-03  6.49150809e-05\n",
      " -1.39407392e-02 -1.87019282e-02 -1.03177765e-02 -9.75417577e-03\n",
      " -8.75084890e-03 -8.66949723e-03 -2.23582194e-02 -1.95075497e-02\n",
      " -7.75610984e-03 -1.03389972e-02 -1.27329441e-02 -1.04782245e-02\n",
      " -1.44920519e-02 -1.06012913e-02 -1.41621678e-02 -8.88395741e-03\n",
      " -9.92451748e-03 -1.13618151e-02]\n",
      "=========================================================\n",
      "  Model: Multi-Layer Perceptron  Return column: ret_OPT\n",
      "=========================================================\n",
      "Fit time: 333.28 seconds\n",
      "Optimal parameters:\n",
      "{'alpha': 0.01, 'hidden_layer_sizes': 50}\n",
      "\n",
      "Testing r2 score: 0.028715737188446333\n",
      "Were parameters on edge (model) : False\n",
      "Score variations around CV search grid (model) : -136.03953453516993\n",
      "All test scores : [-0.06865017 -0.09364391 -0.06133931 -0.06822706 -0.084723   -0.07221498\n",
      " -0.085772   -0.14225123 -0.08726108 -0.06026585 -0.06207001 -0.07922968\n",
      " -0.10929629 -0.1001539  -0.13733734 -0.07133609 -0.08661144 -0.10559166\n",
      " -0.06724398 -0.08125016 -0.09773988 -0.08398669 -0.08246701 -0.08941552\n",
      " -0.07725701 -0.07657637 -0.06971975 -0.08623431 -0.07630609 -0.08889681\n",
      " -0.08160355 -0.07122032 -0.08228184 -0.08482517 -0.08758655 -0.08009864\n",
      " -0.07858734 -0.08107488 -0.08820232 -0.08380793 -0.07494689 -0.07665899]\n",
      "=========================================================\n",
      "  Model: Multi-Layer Perceptron  Return column: ret_INTa\n",
      "=========================================================\n",
      "Fit time: 345.63 seconds\n",
      "Optimal parameters:\n",
      "{'alpha': 0.001, 'hidden_layer_sizes': 100}\n",
      "\n",
      "Testing r2 score: 0.2547923332691421\n",
      "Were parameters on edge (model) : True\n",
      "Score variations around CV search grid (model) : 208.34683950462346\n",
      "All test scores : [-0.12706027  0.11969097  0.12998993  0.18060324  0.10425588  0.03375094\n",
      "  0.14628646 -0.00979292  0.10636011  0.10346162  0.10460552  0.17227736\n",
      "  0.09715407  0.11908192 -0.19567791  0.03185878  0.10683795  0.13250057\n",
      "  0.14179843  0.09679741  0.11512122 -0.00662635  0.00272116 -0.01107799\n",
      " -0.00777462 -0.01621714 -0.02146239 -0.01503067 -0.01395485 -0.01283318\n",
      " -0.02175604 -0.01028472 -0.02330622 -0.01579725 -0.01172696 -0.01379621\n",
      " -0.01351292 -0.01500755 -0.01333029 -0.01415291 -0.01425798 -0.0142982 ]\n",
      "=========================================================\n",
      "  Model: Multi-Layer Perceptron  Return column: ret_INTb\n",
      "=========================================================\n",
      "Fit time: 337.11 seconds\n",
      "Optimal parameters:\n",
      "{'alpha': 0.01, 'hidden_layer_sizes': 50}\n",
      "\n",
      "Testing r2 score: 0.17541059361708122\n",
      "Were parameters on edge (model) : False\n",
      "Score variations around CV search grid (model) : 683.6101399590427\n",
      "All test scores : [-0.00301475 -0.02191092  0.06494859  0.09040759  0.1091098   0.04486798\n",
      "  0.08523559 -0.71813787  0.05035178  0.12305096  0.0948115   0.09285719\n",
      "  0.04858547  0.12271202 -0.03964401  0.00148126  0.09316546  0.09275669\n",
      "  0.08532581  0.03528199  0.07799137  0.04023045  0.00854073 -0.02432491\n",
      " -0.02081041 -0.01990862 -0.02584478 -0.01700369 -0.01709033 -0.0162285\n",
      " -0.01206832 -0.01052521 -0.01462367 -0.02798708 -0.02492019 -0.01326989\n",
      " -0.02004816 -0.02043221 -0.02387319 -0.02593357 -0.01931169 -0.02186974]\n"
     ]
    }
   ],
   "source": [
    "cv_parameters = { 'alpha':[0.001, 0.01, 0.1, 1, 10, 100],\n",
    "                  'hidden_layer_sizes':[(1), (10), (50), (100), (200), (5, 5), (10, 10)] }\n",
    "\n",
    "reg_mlp = fit_regression(MLPRegressor(), data_dict,\n",
    "               cv_parameters = cv_parameters, separate = False, model_name = \"Multi-Layer Perceptron\")"
   ]
  },
  {
   "cell_type": "markdown",
   "metadata": {
    "colab_type": "text",
    "id": "LVIe9l1KOHox"
   },
   "source": [
    "### Random forest regressor"
   ]
  },
  {
   "cell_type": "code",
   "execution_count": 37,
   "metadata": {
    "colab": {
     "base_uri": "https://localhost:8080/",
     "height": 1000
    },
    "colab_type": "code",
    "id": "rEnoIdvWOHoy",
    "outputId": "5b35de06-a14c-4127-8fd9-de2b2efda1a9"
   },
   "outputs": [
    {
     "name": "stdout",
     "output_type": "stream",
     "text": [
      "=========================================================\n",
      "  Model: Random forest regressor  Return column: ret_PESS\n",
      "=========================================================\n",
      "Fit time: 196.05 seconds\n",
      "Optimal parameters:\n",
      "{'min_samples_leaf': 75, 'n_estimators': 90}\n",
      "\n",
      "Testing r2 score: 0.3132111667758547\n",
      "Were parameters on edge (model) : True\n",
      "Score variations around CV search grid (model) : 12.223286843451328\n",
      "All test scores : [0.22742234 0.22875706 0.22772106 0.22843033 0.22833516 0.22947257\n",
      " 0.22870358 0.22232914 0.22225981 0.22376882 0.22321379 0.2233802\n",
      " 0.22363295 0.22334089 0.21209937 0.2120619  0.21275021 0.21317527\n",
      " 0.21277307 0.21301128 0.21416096 0.20605004 0.20529838 0.20628124\n",
      " 0.20663087 0.20672425 0.20589552 0.2069726  0.20182448 0.20336222\n",
      " 0.20295764 0.20286169 0.20142348 0.20195736 0.2023139 ]\n",
      "=========================================================\n",
      "  Model: Random forest regressor  Return column: ret_OPT\n",
      "=========================================================\n",
      "Fit time: 207.9 seconds\n",
      "Optimal parameters:\n",
      "{'min_samples_leaf': 75, 'n_estimators': 100}\n",
      "\n",
      "Testing r2 score: 0.06585042004441466\n",
      "Were parameters on edge (model) : True\n",
      "Score variations around CV search grid (model) : -24.242367367499856\n",
      "All test scores : [-0.0696877  -0.06720319 -0.06919765 -0.06820098 -0.06741147 -0.0682948\n",
      " -0.06660003 -0.07145661 -0.06983037 -0.07045838 -0.07078508 -0.07015385\n",
      " -0.07096163 -0.07042917 -0.07752429 -0.07856048 -0.07861372 -0.07823639\n",
      " -0.07761847 -0.07805758 -0.07819228 -0.07930328 -0.07887808 -0.07947359\n",
      " -0.08023442 -0.08035987 -0.07955747 -0.07966309 -0.08274545 -0.08167692\n",
      " -0.08139095 -0.08090288 -0.08149237 -0.08183322 -0.08074823]\n",
      "=========================================================\n",
      "  Model: Random forest regressor  Return column: ret_INTa\n",
      "=========================================================\n",
      "Fit time: 182.1 seconds\n",
      "Optimal parameters:\n",
      "{'min_samples_leaf': 75, 'n_estimators': 35}\n",
      "\n",
      "Testing r2 score: 0.28777630041086766\n",
      "Were parameters on edge (model) : True\n",
      "Score variations around CV search grid (model) : 9.762663685659895\n",
      "All test scores : [0.18963995 0.18866826 0.18894098 0.18914241 0.18903751 0.18927176\n",
      " 0.18909946 0.18566448 0.18644053 0.18777241 0.18799698 0.18797981\n",
      " 0.18669851 0.18724561 0.17951459 0.17956033 0.17812493 0.17863091\n",
      " 0.17862599 0.17882211 0.17965261 0.17538075 0.17380629 0.17584273\n",
      " 0.17632058 0.1756024  0.17392571 0.17452632 0.1721281  0.17112604\n",
      " 0.17217302 0.17184434 0.17134067 0.17188735 0.17346945]\n",
      "=========================================================\n",
      "  Model: Random forest regressor  Return column: ret_INTb\n",
      "=========================================================\n",
      "Fit time: 187.04 seconds\n",
      "Optimal parameters:\n",
      "{'min_samples_leaf': 75, 'n_estimators': 100}\n",
      "\n",
      "Testing r2 score: 0.24536926877973642\n",
      "Were parameters on edge (model) : True\n",
      "Score variations around CV search grid (model) : 10.710118045478927\n",
      "All test scores : [0.13770122 0.13665521 0.13652096 0.13623455 0.13727794 0.13704416\n",
      " 0.13790196 0.13503575 0.13309152 0.13414606 0.1346388  0.13341168\n",
      " 0.1348943  0.13437239 0.12751545 0.12802447 0.12877887 0.12784231\n",
      " 0.12704824 0.12811258 0.12869334 0.12487168 0.12517148 0.12427102\n",
      " 0.12437862 0.12470403 0.12545406 0.12499861 0.12445145 0.12357668\n",
      " 0.1231325  0.1242939  0.12361091 0.12384777 0.12362587]\n"
     ]
    }
   ],
   "source": [
    "cv_parameters = {'min_samples_leaf':[75, 100, 200, 300, 400],\n",
    "                 'n_estimators': [35, 45, 55, 65, 80, 90, 100] }\n",
    "\n",
    "reg_rf = fit_regression(RandomForestRegressor(), data_dict,\n",
    "               cv_parameters = cv_parameters, separate = False, model_name = \"Random forest regressor\")"
   ]
  },
  {
   "cell_type": "markdown",
   "metadata": {
    "colab_type": "text",
    "id": "72JlSP0eOHo2"
   },
   "source": [
    "## Learning curve of classifiers\n",
    "Start with 25 training points and double the training size every time\n",
    "(This cell will take at least 30 mins to run)"
   ]
  },
  {
   "cell_type": "code",
   "execution_count": 53,
   "metadata": {
    "colab": {
     "base_uri": "https://localhost:8080/",
     "height": 278
    },
    "colab_type": "code",
    "id": "z2fQloDWOHo3",
    "outputId": "1f6645fe-6a20-48a8-ae5d-584e7c29fe99"
   },
   "outputs": [
    {
     "ename": "KeyboardInterrupt",
     "evalue": "",
     "output_type": "error",
     "traceback": [
      "\u001b[1;31m---------------------------------------------------------------------------\u001b[0m",
      "\u001b[1;31mKeyboardInterrupt\u001b[0m                         Traceback (most recent call last)",
      "\u001b[1;32m<ipython-input-53-2ff218bd9476>\u001b[0m in \u001b[0;36m<module>\u001b[1;34m\u001b[0m\n\u001b[0;32m     34\u001b[0m         random_forest_t = fit_classification(random_forest_t, data_dict_t,\n\u001b[0;32m     35\u001b[0m                                        \u001b[0mcv_parameters\u001b[0m\u001b[1;33m=\u001b[0m\u001b[0mcv_parameters\u001b[0m\u001b[1;33m,\u001b[0m \u001b[0mmodel_name\u001b[0m\u001b[1;33m=\u001b[0m\u001b[1;34m\"Random forest\"\u001b[0m\u001b[1;33m,\u001b[0m\u001b[1;33m\u001b[0m\u001b[1;33m\u001b[0m\u001b[0m\n\u001b[1;32m---> 36\u001b[1;33m                                              print_to_screen = False, output_to_file = False)\n\u001b[0m\u001b[0;32m     37\u001b[0m \u001b[1;33m\u001b[0m\u001b[0m\n\u001b[0;32m     38\u001b[0m         \u001b[0mdf_learning_logistic\u001b[0m\u001b[1;33m.\u001b[0m\u001b[0mloc\u001b[0m\u001b[1;33m[\u001b[0m\u001b[0msize\u001b[0m\u001b[1;33m,\u001b[0m\u001b[0mt\u001b[0m\u001b[1;33m]\u001b[0m \u001b[1;33m=\u001b[0m \u001b[0mroc_auc_score\u001b[0m\u001b[1;33m(\u001b[0m\u001b[0my_test_t\u001b[0m\u001b[1;33m,\u001b[0m \u001b[0ml2_logistic_t\u001b[0m\u001b[1;33m[\u001b[0m\u001b[1;34m'model'\u001b[0m\u001b[1;33m]\u001b[0m\u001b[1;33m.\u001b[0m\u001b[0mpredict_proba\u001b[0m\u001b[1;33m(\u001b[0m\u001b[0mX_test_t\u001b[0m\u001b[1;33m)\u001b[0m\u001b[1;33m[\u001b[0m\u001b[1;33m:\u001b[0m\u001b[1;33m,\u001b[0m\u001b[1;36m1\u001b[0m\u001b[1;33m]\u001b[0m\u001b[1;33m)\u001b[0m\u001b[1;33m\u001b[0m\u001b[1;33m\u001b[0m\u001b[0m\n",
      "\u001b[1;32m<ipython-input-14-795a3f520df0>\u001b[0m in \u001b[0;36mfit_classification\u001b[1;34m(model, data_dict, cv_parameters, model_name, random_state, output_to_file, print_to_screen)\u001b[0m\n\u001b[0;32m     58\u001b[0m \u001b[1;33m\u001b[0m\u001b[0m\n\u001b[0;32m     59\u001b[0m     \u001b[0mstart_time\u001b[0m \u001b[1;33m=\u001b[0m \u001b[0mtime\u001b[0m\u001b[1;33m.\u001b[0m\u001b[0mtime\u001b[0m\u001b[1;33m(\u001b[0m\u001b[1;33m)\u001b[0m\u001b[1;33m\u001b[0m\u001b[1;33m\u001b[0m\u001b[0m\n\u001b[1;32m---> 60\u001b[1;33m     \u001b[0mcv_model\u001b[0m\u001b[1;33m.\u001b[0m\u001b[0mfit\u001b[0m\u001b[1;33m(\u001b[0m\u001b[0mX_train\u001b[0m\u001b[1;33m,\u001b[0m \u001b[0my_train\u001b[0m\u001b[1;33m)\u001b[0m\u001b[1;33m\u001b[0m\u001b[1;33m\u001b[0m\u001b[0m\n\u001b[0m\u001b[0;32m     61\u001b[0m     \u001b[0mend_time\u001b[0m \u001b[1;33m=\u001b[0m \u001b[0mtime\u001b[0m\u001b[1;33m.\u001b[0m\u001b[0mtime\u001b[0m\u001b[1;33m(\u001b[0m\u001b[1;33m)\u001b[0m\u001b[1;33m\u001b[0m\u001b[1;33m\u001b[0m\u001b[0m\n\u001b[0;32m     62\u001b[0m \u001b[1;33m\u001b[0m\u001b[0m\n",
      "\u001b[1;32m~\\Anaconda3\\lib\\site-packages\\sklearn\\model_selection\\_search.py\u001b[0m in \u001b[0;36mfit\u001b[1;34m(self, X, y, groups, **fit_params)\u001b[0m\n\u001b[0;32m    710\u001b[0m                 \u001b[1;32mreturn\u001b[0m \u001b[0mresults\u001b[0m\u001b[1;33m\u001b[0m\u001b[1;33m\u001b[0m\u001b[0m\n\u001b[0;32m    711\u001b[0m \u001b[1;33m\u001b[0m\u001b[0m\n\u001b[1;32m--> 712\u001b[1;33m             \u001b[0mself\u001b[0m\u001b[1;33m.\u001b[0m\u001b[0m_run_search\u001b[0m\u001b[1;33m(\u001b[0m\u001b[0mevaluate_candidates\u001b[0m\u001b[1;33m)\u001b[0m\u001b[1;33m\u001b[0m\u001b[1;33m\u001b[0m\u001b[0m\n\u001b[0m\u001b[0;32m    713\u001b[0m \u001b[1;33m\u001b[0m\u001b[0m\n\u001b[0;32m    714\u001b[0m         \u001b[1;31m# For multi-metric evaluation, store the best_index_, best_params_ and\u001b[0m\u001b[1;33m\u001b[0m\u001b[1;33m\u001b[0m\u001b[1;33m\u001b[0m\u001b[0m\n",
      "\u001b[1;32m~\\Anaconda3\\lib\\site-packages\\sklearn\\model_selection\\_search.py\u001b[0m in \u001b[0;36m_run_search\u001b[1;34m(self, evaluate_candidates)\u001b[0m\n\u001b[0;32m   1151\u001b[0m     \u001b[1;32mdef\u001b[0m \u001b[0m_run_search\u001b[0m\u001b[1;33m(\u001b[0m\u001b[0mself\u001b[0m\u001b[1;33m,\u001b[0m \u001b[0mevaluate_candidates\u001b[0m\u001b[1;33m)\u001b[0m\u001b[1;33m:\u001b[0m\u001b[1;33m\u001b[0m\u001b[1;33m\u001b[0m\u001b[0m\n\u001b[0;32m   1152\u001b[0m         \u001b[1;34m\"\"\"Search all candidates in param_grid\"\"\"\u001b[0m\u001b[1;33m\u001b[0m\u001b[1;33m\u001b[0m\u001b[0m\n\u001b[1;32m-> 1153\u001b[1;33m         \u001b[0mevaluate_candidates\u001b[0m\u001b[1;33m(\u001b[0m\u001b[0mParameterGrid\u001b[0m\u001b[1;33m(\u001b[0m\u001b[0mself\u001b[0m\u001b[1;33m.\u001b[0m\u001b[0mparam_grid\u001b[0m\u001b[1;33m)\u001b[0m\u001b[1;33m)\u001b[0m\u001b[1;33m\u001b[0m\u001b[1;33m\u001b[0m\u001b[0m\n\u001b[0m\u001b[0;32m   1154\u001b[0m \u001b[1;33m\u001b[0m\u001b[0m\n\u001b[0;32m   1155\u001b[0m \u001b[1;33m\u001b[0m\u001b[0m\n",
      "\u001b[1;32m~\\Anaconda3\\lib\\site-packages\\sklearn\\model_selection\\_search.py\u001b[0m in \u001b[0;36mevaluate_candidates\u001b[1;34m(candidate_params)\u001b[0m\n\u001b[0;32m    689\u001b[0m                                \u001b[1;32mfor\u001b[0m \u001b[0mparameters\u001b[0m\u001b[1;33m,\u001b[0m \u001b[1;33m(\u001b[0m\u001b[0mtrain\u001b[0m\u001b[1;33m,\u001b[0m \u001b[0mtest\u001b[0m\u001b[1;33m)\u001b[0m\u001b[1;33m\u001b[0m\u001b[1;33m\u001b[0m\u001b[0m\n\u001b[0;32m    690\u001b[0m                                in product(candidate_params,\n\u001b[1;32m--> 691\u001b[1;33m                                           cv.split(X, y, groups)))\n\u001b[0m\u001b[0;32m    692\u001b[0m \u001b[1;33m\u001b[0m\u001b[0m\n\u001b[0;32m    693\u001b[0m                 \u001b[1;32mif\u001b[0m \u001b[0mlen\u001b[0m\u001b[1;33m(\u001b[0m\u001b[0mout\u001b[0m\u001b[1;33m)\u001b[0m \u001b[1;33m<\u001b[0m \u001b[1;36m1\u001b[0m\u001b[1;33m:\u001b[0m\u001b[1;33m\u001b[0m\u001b[1;33m\u001b[0m\u001b[0m\n",
      "\u001b[1;32m~\\Anaconda3\\lib\\site-packages\\joblib\\parallel.py\u001b[0m in \u001b[0;36m__call__\u001b[1;34m(self, iterable)\u001b[0m\n\u001b[0;32m   1005\u001b[0m                 \u001b[0mself\u001b[0m\u001b[1;33m.\u001b[0m\u001b[0m_iterating\u001b[0m \u001b[1;33m=\u001b[0m \u001b[0mself\u001b[0m\u001b[1;33m.\u001b[0m\u001b[0m_original_iterator\u001b[0m \u001b[1;32mis\u001b[0m \u001b[1;32mnot\u001b[0m \u001b[1;32mNone\u001b[0m\u001b[1;33m\u001b[0m\u001b[1;33m\u001b[0m\u001b[0m\n\u001b[0;32m   1006\u001b[0m \u001b[1;33m\u001b[0m\u001b[0m\n\u001b[1;32m-> 1007\u001b[1;33m             \u001b[1;32mwhile\u001b[0m \u001b[0mself\u001b[0m\u001b[1;33m.\u001b[0m\u001b[0mdispatch_one_batch\u001b[0m\u001b[1;33m(\u001b[0m\u001b[0miterator\u001b[0m\u001b[1;33m)\u001b[0m\u001b[1;33m:\u001b[0m\u001b[1;33m\u001b[0m\u001b[1;33m\u001b[0m\u001b[0m\n\u001b[0m\u001b[0;32m   1008\u001b[0m                 \u001b[1;32mpass\u001b[0m\u001b[1;33m\u001b[0m\u001b[1;33m\u001b[0m\u001b[0m\n\u001b[0;32m   1009\u001b[0m \u001b[1;33m\u001b[0m\u001b[0m\n",
      "\u001b[1;32m~\\Anaconda3\\lib\\site-packages\\joblib\\parallel.py\u001b[0m in \u001b[0;36mdispatch_one_batch\u001b[1;34m(self, iterator)\u001b[0m\n\u001b[0;32m    833\u001b[0m                 \u001b[1;32mreturn\u001b[0m \u001b[1;32mFalse\u001b[0m\u001b[1;33m\u001b[0m\u001b[1;33m\u001b[0m\u001b[0m\n\u001b[0;32m    834\u001b[0m             \u001b[1;32melse\u001b[0m\u001b[1;33m:\u001b[0m\u001b[1;33m\u001b[0m\u001b[1;33m\u001b[0m\u001b[0m\n\u001b[1;32m--> 835\u001b[1;33m                 \u001b[0mself\u001b[0m\u001b[1;33m.\u001b[0m\u001b[0m_dispatch\u001b[0m\u001b[1;33m(\u001b[0m\u001b[0mtasks\u001b[0m\u001b[1;33m)\u001b[0m\u001b[1;33m\u001b[0m\u001b[1;33m\u001b[0m\u001b[0m\n\u001b[0m\u001b[0;32m    836\u001b[0m                 \u001b[1;32mreturn\u001b[0m \u001b[1;32mTrue\u001b[0m\u001b[1;33m\u001b[0m\u001b[1;33m\u001b[0m\u001b[0m\n\u001b[0;32m    837\u001b[0m \u001b[1;33m\u001b[0m\u001b[0m\n",
      "\u001b[1;32m~\\Anaconda3\\lib\\site-packages\\joblib\\parallel.py\u001b[0m in \u001b[0;36m_dispatch\u001b[1;34m(self, batch)\u001b[0m\n\u001b[0;32m    752\u001b[0m         \u001b[1;32mwith\u001b[0m \u001b[0mself\u001b[0m\u001b[1;33m.\u001b[0m\u001b[0m_lock\u001b[0m\u001b[1;33m:\u001b[0m\u001b[1;33m\u001b[0m\u001b[1;33m\u001b[0m\u001b[0m\n\u001b[0;32m    753\u001b[0m             \u001b[0mjob_idx\u001b[0m \u001b[1;33m=\u001b[0m \u001b[0mlen\u001b[0m\u001b[1;33m(\u001b[0m\u001b[0mself\u001b[0m\u001b[1;33m.\u001b[0m\u001b[0m_jobs\u001b[0m\u001b[1;33m)\u001b[0m\u001b[1;33m\u001b[0m\u001b[1;33m\u001b[0m\u001b[0m\n\u001b[1;32m--> 754\u001b[1;33m             \u001b[0mjob\u001b[0m \u001b[1;33m=\u001b[0m \u001b[0mself\u001b[0m\u001b[1;33m.\u001b[0m\u001b[0m_backend\u001b[0m\u001b[1;33m.\u001b[0m\u001b[0mapply_async\u001b[0m\u001b[1;33m(\u001b[0m\u001b[0mbatch\u001b[0m\u001b[1;33m,\u001b[0m \u001b[0mcallback\u001b[0m\u001b[1;33m=\u001b[0m\u001b[0mcb\u001b[0m\u001b[1;33m)\u001b[0m\u001b[1;33m\u001b[0m\u001b[1;33m\u001b[0m\u001b[0m\n\u001b[0m\u001b[0;32m    755\u001b[0m             \u001b[1;31m# A job can complete so quickly than its callback is\u001b[0m\u001b[1;33m\u001b[0m\u001b[1;33m\u001b[0m\u001b[1;33m\u001b[0m\u001b[0m\n\u001b[0;32m    756\u001b[0m             \u001b[1;31m# called before we get here, causing self._jobs to\u001b[0m\u001b[1;33m\u001b[0m\u001b[1;33m\u001b[0m\u001b[1;33m\u001b[0m\u001b[0m\n",
      "\u001b[1;32m~\\Anaconda3\\lib\\site-packages\\joblib\\_parallel_backends.py\u001b[0m in \u001b[0;36mapply_async\u001b[1;34m(self, func, callback)\u001b[0m\n\u001b[0;32m    207\u001b[0m     \u001b[1;32mdef\u001b[0m \u001b[0mapply_async\u001b[0m\u001b[1;33m(\u001b[0m\u001b[0mself\u001b[0m\u001b[1;33m,\u001b[0m \u001b[0mfunc\u001b[0m\u001b[1;33m,\u001b[0m \u001b[0mcallback\u001b[0m\u001b[1;33m=\u001b[0m\u001b[1;32mNone\u001b[0m\u001b[1;33m)\u001b[0m\u001b[1;33m:\u001b[0m\u001b[1;33m\u001b[0m\u001b[1;33m\u001b[0m\u001b[0m\n\u001b[0;32m    208\u001b[0m         \u001b[1;34m\"\"\"Schedule a func to be run\"\"\"\u001b[0m\u001b[1;33m\u001b[0m\u001b[1;33m\u001b[0m\u001b[0m\n\u001b[1;32m--> 209\u001b[1;33m         \u001b[0mresult\u001b[0m \u001b[1;33m=\u001b[0m \u001b[0mImmediateResult\u001b[0m\u001b[1;33m(\u001b[0m\u001b[0mfunc\u001b[0m\u001b[1;33m)\u001b[0m\u001b[1;33m\u001b[0m\u001b[1;33m\u001b[0m\u001b[0m\n\u001b[0m\u001b[0;32m    210\u001b[0m         \u001b[1;32mif\u001b[0m \u001b[0mcallback\u001b[0m\u001b[1;33m:\u001b[0m\u001b[1;33m\u001b[0m\u001b[1;33m\u001b[0m\u001b[0m\n\u001b[0;32m    211\u001b[0m             \u001b[0mcallback\u001b[0m\u001b[1;33m(\u001b[0m\u001b[0mresult\u001b[0m\u001b[1;33m)\u001b[0m\u001b[1;33m\u001b[0m\u001b[1;33m\u001b[0m\u001b[0m\n",
      "\u001b[1;32m~\\Anaconda3\\lib\\site-packages\\joblib\\_parallel_backends.py\u001b[0m in \u001b[0;36m__init__\u001b[1;34m(self, batch)\u001b[0m\n\u001b[0;32m    588\u001b[0m         \u001b[1;31m# Don't delay the application, to avoid keeping the input\u001b[0m\u001b[1;33m\u001b[0m\u001b[1;33m\u001b[0m\u001b[1;33m\u001b[0m\u001b[0m\n\u001b[0;32m    589\u001b[0m         \u001b[1;31m# arguments in memory\u001b[0m\u001b[1;33m\u001b[0m\u001b[1;33m\u001b[0m\u001b[1;33m\u001b[0m\u001b[0m\n\u001b[1;32m--> 590\u001b[1;33m         \u001b[0mself\u001b[0m\u001b[1;33m.\u001b[0m\u001b[0mresults\u001b[0m \u001b[1;33m=\u001b[0m \u001b[0mbatch\u001b[0m\u001b[1;33m(\u001b[0m\u001b[1;33m)\u001b[0m\u001b[1;33m\u001b[0m\u001b[1;33m\u001b[0m\u001b[0m\n\u001b[0m\u001b[0;32m    591\u001b[0m \u001b[1;33m\u001b[0m\u001b[0m\n\u001b[0;32m    592\u001b[0m     \u001b[1;32mdef\u001b[0m \u001b[0mget\u001b[0m\u001b[1;33m(\u001b[0m\u001b[0mself\u001b[0m\u001b[1;33m)\u001b[0m\u001b[1;33m:\u001b[0m\u001b[1;33m\u001b[0m\u001b[1;33m\u001b[0m\u001b[0m\n",
      "\u001b[1;32m~\\Anaconda3\\lib\\site-packages\\joblib\\parallel.py\u001b[0m in \u001b[0;36m__call__\u001b[1;34m(self)\u001b[0m\n\u001b[0;32m    254\u001b[0m         \u001b[1;32mwith\u001b[0m \u001b[0mparallel_backend\u001b[0m\u001b[1;33m(\u001b[0m\u001b[0mself\u001b[0m\u001b[1;33m.\u001b[0m\u001b[0m_backend\u001b[0m\u001b[1;33m,\u001b[0m \u001b[0mn_jobs\u001b[0m\u001b[1;33m=\u001b[0m\u001b[0mself\u001b[0m\u001b[1;33m.\u001b[0m\u001b[0m_n_jobs\u001b[0m\u001b[1;33m)\u001b[0m\u001b[1;33m:\u001b[0m\u001b[1;33m\u001b[0m\u001b[1;33m\u001b[0m\u001b[0m\n\u001b[0;32m    255\u001b[0m             return [func(*args, **kwargs)\n\u001b[1;32m--> 256\u001b[1;33m                     for func, args, kwargs in self.items]\n\u001b[0m\u001b[0;32m    257\u001b[0m \u001b[1;33m\u001b[0m\u001b[0m\n\u001b[0;32m    258\u001b[0m     \u001b[1;32mdef\u001b[0m \u001b[0m__len__\u001b[0m\u001b[1;33m(\u001b[0m\u001b[0mself\u001b[0m\u001b[1;33m)\u001b[0m\u001b[1;33m:\u001b[0m\u001b[1;33m\u001b[0m\u001b[1;33m\u001b[0m\u001b[0m\n",
      "\u001b[1;32m~\\Anaconda3\\lib\\site-packages\\joblib\\parallel.py\u001b[0m in \u001b[0;36m<listcomp>\u001b[1;34m(.0)\u001b[0m\n\u001b[0;32m    254\u001b[0m         \u001b[1;32mwith\u001b[0m \u001b[0mparallel_backend\u001b[0m\u001b[1;33m(\u001b[0m\u001b[0mself\u001b[0m\u001b[1;33m.\u001b[0m\u001b[0m_backend\u001b[0m\u001b[1;33m,\u001b[0m \u001b[0mn_jobs\u001b[0m\u001b[1;33m=\u001b[0m\u001b[0mself\u001b[0m\u001b[1;33m.\u001b[0m\u001b[0m_n_jobs\u001b[0m\u001b[1;33m)\u001b[0m\u001b[1;33m:\u001b[0m\u001b[1;33m\u001b[0m\u001b[1;33m\u001b[0m\u001b[0m\n\u001b[0;32m    255\u001b[0m             return [func(*args, **kwargs)\n\u001b[1;32m--> 256\u001b[1;33m                     for func, args, kwargs in self.items]\n\u001b[0m\u001b[0;32m    257\u001b[0m \u001b[1;33m\u001b[0m\u001b[0m\n\u001b[0;32m    258\u001b[0m     \u001b[1;32mdef\u001b[0m \u001b[0m__len__\u001b[0m\u001b[1;33m(\u001b[0m\u001b[0mself\u001b[0m\u001b[1;33m)\u001b[0m\u001b[1;33m:\u001b[0m\u001b[1;33m\u001b[0m\u001b[1;33m\u001b[0m\u001b[0m\n",
      "\u001b[1;32m~\\Anaconda3\\lib\\site-packages\\sklearn\\model_selection\\_validation.py\u001b[0m in \u001b[0;36m_fit_and_score\u001b[1;34m(estimator, X, y, scorer, train, test, verbose, parameters, fit_params, return_train_score, return_parameters, return_n_test_samples, return_times, return_estimator, error_score)\u001b[0m\n\u001b[0;32m    513\u001b[0m             \u001b[0mestimator\u001b[0m\u001b[1;33m.\u001b[0m\u001b[0mfit\u001b[0m\u001b[1;33m(\u001b[0m\u001b[0mX_train\u001b[0m\u001b[1;33m,\u001b[0m \u001b[1;33m**\u001b[0m\u001b[0mfit_params\u001b[0m\u001b[1;33m)\u001b[0m\u001b[1;33m\u001b[0m\u001b[1;33m\u001b[0m\u001b[0m\n\u001b[0;32m    514\u001b[0m         \u001b[1;32melse\u001b[0m\u001b[1;33m:\u001b[0m\u001b[1;33m\u001b[0m\u001b[1;33m\u001b[0m\u001b[0m\n\u001b[1;32m--> 515\u001b[1;33m             \u001b[0mestimator\u001b[0m\u001b[1;33m.\u001b[0m\u001b[0mfit\u001b[0m\u001b[1;33m(\u001b[0m\u001b[0mX_train\u001b[0m\u001b[1;33m,\u001b[0m \u001b[0my_train\u001b[0m\u001b[1;33m,\u001b[0m \u001b[1;33m**\u001b[0m\u001b[0mfit_params\u001b[0m\u001b[1;33m)\u001b[0m\u001b[1;33m\u001b[0m\u001b[1;33m\u001b[0m\u001b[0m\n\u001b[0m\u001b[0;32m    516\u001b[0m \u001b[1;33m\u001b[0m\u001b[0m\n\u001b[0;32m    517\u001b[0m     \u001b[1;32mexcept\u001b[0m \u001b[0mException\u001b[0m \u001b[1;32mas\u001b[0m \u001b[0me\u001b[0m\u001b[1;33m:\u001b[0m\u001b[1;33m\u001b[0m\u001b[1;33m\u001b[0m\u001b[0m\n",
      "\u001b[1;32m~\\Anaconda3\\lib\\site-packages\\sklearn\\ensemble\\_forest.py\u001b[0m in \u001b[0;36mfit\u001b[1;34m(self, X, y, sample_weight)\u001b[0m\n\u001b[0;32m    381\u001b[0m                     \u001b[0mverbose\u001b[0m\u001b[1;33m=\u001b[0m\u001b[0mself\u001b[0m\u001b[1;33m.\u001b[0m\u001b[0mverbose\u001b[0m\u001b[1;33m,\u001b[0m \u001b[0mclass_weight\u001b[0m\u001b[1;33m=\u001b[0m\u001b[0mself\u001b[0m\u001b[1;33m.\u001b[0m\u001b[0mclass_weight\u001b[0m\u001b[1;33m,\u001b[0m\u001b[1;33m\u001b[0m\u001b[1;33m\u001b[0m\u001b[0m\n\u001b[0;32m    382\u001b[0m                     n_samples_bootstrap=n_samples_bootstrap)\n\u001b[1;32m--> 383\u001b[1;33m                 for i, t in enumerate(trees))\n\u001b[0m\u001b[0;32m    384\u001b[0m \u001b[1;33m\u001b[0m\u001b[0m\n\u001b[0;32m    385\u001b[0m             \u001b[1;31m# Collect newly grown trees\u001b[0m\u001b[1;33m\u001b[0m\u001b[1;33m\u001b[0m\u001b[1;33m\u001b[0m\u001b[0m\n",
      "\u001b[1;32m~\\Anaconda3\\lib\\site-packages\\joblib\\parallel.py\u001b[0m in \u001b[0;36m__call__\u001b[1;34m(self, iterable)\u001b[0m\n\u001b[0;32m   1005\u001b[0m                 \u001b[0mself\u001b[0m\u001b[1;33m.\u001b[0m\u001b[0m_iterating\u001b[0m \u001b[1;33m=\u001b[0m \u001b[0mself\u001b[0m\u001b[1;33m.\u001b[0m\u001b[0m_original_iterator\u001b[0m \u001b[1;32mis\u001b[0m \u001b[1;32mnot\u001b[0m \u001b[1;32mNone\u001b[0m\u001b[1;33m\u001b[0m\u001b[1;33m\u001b[0m\u001b[0m\n\u001b[0;32m   1006\u001b[0m \u001b[1;33m\u001b[0m\u001b[0m\n\u001b[1;32m-> 1007\u001b[1;33m             \u001b[1;32mwhile\u001b[0m \u001b[0mself\u001b[0m\u001b[1;33m.\u001b[0m\u001b[0mdispatch_one_batch\u001b[0m\u001b[1;33m(\u001b[0m\u001b[0miterator\u001b[0m\u001b[1;33m)\u001b[0m\u001b[1;33m:\u001b[0m\u001b[1;33m\u001b[0m\u001b[1;33m\u001b[0m\u001b[0m\n\u001b[0m\u001b[0;32m   1008\u001b[0m                 \u001b[1;32mpass\u001b[0m\u001b[1;33m\u001b[0m\u001b[1;33m\u001b[0m\u001b[0m\n\u001b[0;32m   1009\u001b[0m \u001b[1;33m\u001b[0m\u001b[0m\n",
      "\u001b[1;32m~\\Anaconda3\\lib\\site-packages\\joblib\\parallel.py\u001b[0m in \u001b[0;36mdispatch_one_batch\u001b[1;34m(self, iterator)\u001b[0m\n\u001b[0;32m    833\u001b[0m                 \u001b[1;32mreturn\u001b[0m \u001b[1;32mFalse\u001b[0m\u001b[1;33m\u001b[0m\u001b[1;33m\u001b[0m\u001b[0m\n\u001b[0;32m    834\u001b[0m             \u001b[1;32melse\u001b[0m\u001b[1;33m:\u001b[0m\u001b[1;33m\u001b[0m\u001b[1;33m\u001b[0m\u001b[0m\n\u001b[1;32m--> 835\u001b[1;33m                 \u001b[0mself\u001b[0m\u001b[1;33m.\u001b[0m\u001b[0m_dispatch\u001b[0m\u001b[1;33m(\u001b[0m\u001b[0mtasks\u001b[0m\u001b[1;33m)\u001b[0m\u001b[1;33m\u001b[0m\u001b[1;33m\u001b[0m\u001b[0m\n\u001b[0m\u001b[0;32m    836\u001b[0m                 \u001b[1;32mreturn\u001b[0m \u001b[1;32mTrue\u001b[0m\u001b[1;33m\u001b[0m\u001b[1;33m\u001b[0m\u001b[0m\n\u001b[0;32m    837\u001b[0m \u001b[1;33m\u001b[0m\u001b[0m\n",
      "\u001b[1;32m~\\Anaconda3\\lib\\site-packages\\joblib\\parallel.py\u001b[0m in \u001b[0;36m_dispatch\u001b[1;34m(self, batch)\u001b[0m\n\u001b[0;32m    752\u001b[0m         \u001b[1;32mwith\u001b[0m \u001b[0mself\u001b[0m\u001b[1;33m.\u001b[0m\u001b[0m_lock\u001b[0m\u001b[1;33m:\u001b[0m\u001b[1;33m\u001b[0m\u001b[1;33m\u001b[0m\u001b[0m\n\u001b[0;32m    753\u001b[0m             \u001b[0mjob_idx\u001b[0m \u001b[1;33m=\u001b[0m \u001b[0mlen\u001b[0m\u001b[1;33m(\u001b[0m\u001b[0mself\u001b[0m\u001b[1;33m.\u001b[0m\u001b[0m_jobs\u001b[0m\u001b[1;33m)\u001b[0m\u001b[1;33m\u001b[0m\u001b[1;33m\u001b[0m\u001b[0m\n\u001b[1;32m--> 754\u001b[1;33m             \u001b[0mjob\u001b[0m \u001b[1;33m=\u001b[0m \u001b[0mself\u001b[0m\u001b[1;33m.\u001b[0m\u001b[0m_backend\u001b[0m\u001b[1;33m.\u001b[0m\u001b[0mapply_async\u001b[0m\u001b[1;33m(\u001b[0m\u001b[0mbatch\u001b[0m\u001b[1;33m,\u001b[0m \u001b[0mcallback\u001b[0m\u001b[1;33m=\u001b[0m\u001b[0mcb\u001b[0m\u001b[1;33m)\u001b[0m\u001b[1;33m\u001b[0m\u001b[1;33m\u001b[0m\u001b[0m\n\u001b[0m\u001b[0;32m    755\u001b[0m             \u001b[1;31m# A job can complete so quickly than its callback is\u001b[0m\u001b[1;33m\u001b[0m\u001b[1;33m\u001b[0m\u001b[1;33m\u001b[0m\u001b[0m\n\u001b[0;32m    756\u001b[0m             \u001b[1;31m# called before we get here, causing self._jobs to\u001b[0m\u001b[1;33m\u001b[0m\u001b[1;33m\u001b[0m\u001b[1;33m\u001b[0m\u001b[0m\n",
      "\u001b[1;32m~\\Anaconda3\\lib\\site-packages\\joblib\\_parallel_backends.py\u001b[0m in \u001b[0;36mapply_async\u001b[1;34m(self, func, callback)\u001b[0m\n\u001b[0;32m    207\u001b[0m     \u001b[1;32mdef\u001b[0m \u001b[0mapply_async\u001b[0m\u001b[1;33m(\u001b[0m\u001b[0mself\u001b[0m\u001b[1;33m,\u001b[0m \u001b[0mfunc\u001b[0m\u001b[1;33m,\u001b[0m \u001b[0mcallback\u001b[0m\u001b[1;33m=\u001b[0m\u001b[1;32mNone\u001b[0m\u001b[1;33m)\u001b[0m\u001b[1;33m:\u001b[0m\u001b[1;33m\u001b[0m\u001b[1;33m\u001b[0m\u001b[0m\n\u001b[0;32m    208\u001b[0m         \u001b[1;34m\"\"\"Schedule a func to be run\"\"\"\u001b[0m\u001b[1;33m\u001b[0m\u001b[1;33m\u001b[0m\u001b[0m\n\u001b[1;32m--> 209\u001b[1;33m         \u001b[0mresult\u001b[0m \u001b[1;33m=\u001b[0m \u001b[0mImmediateResult\u001b[0m\u001b[1;33m(\u001b[0m\u001b[0mfunc\u001b[0m\u001b[1;33m)\u001b[0m\u001b[1;33m\u001b[0m\u001b[1;33m\u001b[0m\u001b[0m\n\u001b[0m\u001b[0;32m    210\u001b[0m         \u001b[1;32mif\u001b[0m \u001b[0mcallback\u001b[0m\u001b[1;33m:\u001b[0m\u001b[1;33m\u001b[0m\u001b[1;33m\u001b[0m\u001b[0m\n\u001b[0;32m    211\u001b[0m             \u001b[0mcallback\u001b[0m\u001b[1;33m(\u001b[0m\u001b[0mresult\u001b[0m\u001b[1;33m)\u001b[0m\u001b[1;33m\u001b[0m\u001b[1;33m\u001b[0m\u001b[0m\n",
      "\u001b[1;32m~\\Anaconda3\\lib\\site-packages\\joblib\\_parallel_backends.py\u001b[0m in \u001b[0;36m__init__\u001b[1;34m(self, batch)\u001b[0m\n\u001b[0;32m    588\u001b[0m         \u001b[1;31m# Don't delay the application, to avoid keeping the input\u001b[0m\u001b[1;33m\u001b[0m\u001b[1;33m\u001b[0m\u001b[1;33m\u001b[0m\u001b[0m\n\u001b[0;32m    589\u001b[0m         \u001b[1;31m# arguments in memory\u001b[0m\u001b[1;33m\u001b[0m\u001b[1;33m\u001b[0m\u001b[1;33m\u001b[0m\u001b[0m\n\u001b[1;32m--> 590\u001b[1;33m         \u001b[0mself\u001b[0m\u001b[1;33m.\u001b[0m\u001b[0mresults\u001b[0m \u001b[1;33m=\u001b[0m \u001b[0mbatch\u001b[0m\u001b[1;33m(\u001b[0m\u001b[1;33m)\u001b[0m\u001b[1;33m\u001b[0m\u001b[1;33m\u001b[0m\u001b[0m\n\u001b[0m\u001b[0;32m    591\u001b[0m \u001b[1;33m\u001b[0m\u001b[0m\n\u001b[0;32m    592\u001b[0m     \u001b[1;32mdef\u001b[0m \u001b[0mget\u001b[0m\u001b[1;33m(\u001b[0m\u001b[0mself\u001b[0m\u001b[1;33m)\u001b[0m\u001b[1;33m:\u001b[0m\u001b[1;33m\u001b[0m\u001b[1;33m\u001b[0m\u001b[0m\n",
      "\u001b[1;32m~\\Anaconda3\\lib\\site-packages\\joblib\\parallel.py\u001b[0m in \u001b[0;36m__call__\u001b[1;34m(self)\u001b[0m\n\u001b[0;32m    254\u001b[0m         \u001b[1;32mwith\u001b[0m \u001b[0mparallel_backend\u001b[0m\u001b[1;33m(\u001b[0m\u001b[0mself\u001b[0m\u001b[1;33m.\u001b[0m\u001b[0m_backend\u001b[0m\u001b[1;33m,\u001b[0m \u001b[0mn_jobs\u001b[0m\u001b[1;33m=\u001b[0m\u001b[0mself\u001b[0m\u001b[1;33m.\u001b[0m\u001b[0m_n_jobs\u001b[0m\u001b[1;33m)\u001b[0m\u001b[1;33m:\u001b[0m\u001b[1;33m\u001b[0m\u001b[1;33m\u001b[0m\u001b[0m\n\u001b[0;32m    255\u001b[0m             return [func(*args, **kwargs)\n\u001b[1;32m--> 256\u001b[1;33m                     for func, args, kwargs in self.items]\n\u001b[0m\u001b[0;32m    257\u001b[0m \u001b[1;33m\u001b[0m\u001b[0m\n\u001b[0;32m    258\u001b[0m     \u001b[1;32mdef\u001b[0m \u001b[0m__len__\u001b[0m\u001b[1;33m(\u001b[0m\u001b[0mself\u001b[0m\u001b[1;33m)\u001b[0m\u001b[1;33m:\u001b[0m\u001b[1;33m\u001b[0m\u001b[1;33m\u001b[0m\u001b[0m\n",
      "\u001b[1;32m~\\Anaconda3\\lib\\site-packages\\joblib\\parallel.py\u001b[0m in \u001b[0;36m<listcomp>\u001b[1;34m(.0)\u001b[0m\n\u001b[0;32m    254\u001b[0m         \u001b[1;32mwith\u001b[0m \u001b[0mparallel_backend\u001b[0m\u001b[1;33m(\u001b[0m\u001b[0mself\u001b[0m\u001b[1;33m.\u001b[0m\u001b[0m_backend\u001b[0m\u001b[1;33m,\u001b[0m \u001b[0mn_jobs\u001b[0m\u001b[1;33m=\u001b[0m\u001b[0mself\u001b[0m\u001b[1;33m.\u001b[0m\u001b[0m_n_jobs\u001b[0m\u001b[1;33m)\u001b[0m\u001b[1;33m:\u001b[0m\u001b[1;33m\u001b[0m\u001b[1;33m\u001b[0m\u001b[0m\n\u001b[0;32m    255\u001b[0m             return [func(*args, **kwargs)\n\u001b[1;32m--> 256\u001b[1;33m                     for func, args, kwargs in self.items]\n\u001b[0m\u001b[0;32m    257\u001b[0m \u001b[1;33m\u001b[0m\u001b[0m\n\u001b[0;32m    258\u001b[0m     \u001b[1;32mdef\u001b[0m \u001b[0m__len__\u001b[0m\u001b[1;33m(\u001b[0m\u001b[0mself\u001b[0m\u001b[1;33m)\u001b[0m\u001b[1;33m:\u001b[0m\u001b[1;33m\u001b[0m\u001b[1;33m\u001b[0m\u001b[0m\n",
      "\u001b[1;32m~\\Anaconda3\\lib\\site-packages\\sklearn\\ensemble\\_forest.py\u001b[0m in \u001b[0;36m_parallel_build_trees\u001b[1;34m(tree, forest, X, y, sample_weight, tree_idx, n_trees, verbose, class_weight, n_samples_bootstrap)\u001b[0m\n\u001b[0;32m    163\u001b[0m             \u001b[0mcurr_sample_weight\u001b[0m \u001b[1;33m*=\u001b[0m \u001b[0mcompute_sample_weight\u001b[0m\u001b[1;33m(\u001b[0m\u001b[1;34m'balanced'\u001b[0m\u001b[1;33m,\u001b[0m \u001b[0my\u001b[0m\u001b[1;33m,\u001b[0m \u001b[0mindices\u001b[0m\u001b[1;33m)\u001b[0m\u001b[1;33m\u001b[0m\u001b[1;33m\u001b[0m\u001b[0m\n\u001b[0;32m    164\u001b[0m \u001b[1;33m\u001b[0m\u001b[0m\n\u001b[1;32m--> 165\u001b[1;33m         \u001b[0mtree\u001b[0m\u001b[1;33m.\u001b[0m\u001b[0mfit\u001b[0m\u001b[1;33m(\u001b[0m\u001b[0mX\u001b[0m\u001b[1;33m,\u001b[0m \u001b[0my\u001b[0m\u001b[1;33m,\u001b[0m \u001b[0msample_weight\u001b[0m\u001b[1;33m=\u001b[0m\u001b[0mcurr_sample_weight\u001b[0m\u001b[1;33m,\u001b[0m \u001b[0mcheck_input\u001b[0m\u001b[1;33m=\u001b[0m\u001b[1;32mFalse\u001b[0m\u001b[1;33m)\u001b[0m\u001b[1;33m\u001b[0m\u001b[1;33m\u001b[0m\u001b[0m\n\u001b[0m\u001b[0;32m    166\u001b[0m     \u001b[1;32melse\u001b[0m\u001b[1;33m:\u001b[0m\u001b[1;33m\u001b[0m\u001b[1;33m\u001b[0m\u001b[0m\n\u001b[0;32m    167\u001b[0m         \u001b[0mtree\u001b[0m\u001b[1;33m.\u001b[0m\u001b[0mfit\u001b[0m\u001b[1;33m(\u001b[0m\u001b[0mX\u001b[0m\u001b[1;33m,\u001b[0m \u001b[0my\u001b[0m\u001b[1;33m,\u001b[0m \u001b[0msample_weight\u001b[0m\u001b[1;33m=\u001b[0m\u001b[0msample_weight\u001b[0m\u001b[1;33m,\u001b[0m \u001b[0mcheck_input\u001b[0m\u001b[1;33m=\u001b[0m\u001b[1;32mFalse\u001b[0m\u001b[1;33m)\u001b[0m\u001b[1;33m\u001b[0m\u001b[1;33m\u001b[0m\u001b[0m\n",
      "\u001b[1;32m~\\Anaconda3\\lib\\site-packages\\sklearn\\tree\\_classes.py\u001b[0m in \u001b[0;36mfit\u001b[1;34m(self, X, y, sample_weight, check_input, X_idx_sorted)\u001b[0m\n\u001b[0;32m    874\u001b[0m             \u001b[0msample_weight\u001b[0m\u001b[1;33m=\u001b[0m\u001b[0msample_weight\u001b[0m\u001b[1;33m,\u001b[0m\u001b[1;33m\u001b[0m\u001b[1;33m\u001b[0m\u001b[0m\n\u001b[0;32m    875\u001b[0m             \u001b[0mcheck_input\u001b[0m\u001b[1;33m=\u001b[0m\u001b[0mcheck_input\u001b[0m\u001b[1;33m,\u001b[0m\u001b[1;33m\u001b[0m\u001b[1;33m\u001b[0m\u001b[0m\n\u001b[1;32m--> 876\u001b[1;33m             X_idx_sorted=X_idx_sorted)\n\u001b[0m\u001b[0;32m    877\u001b[0m         \u001b[1;32mreturn\u001b[0m \u001b[0mself\u001b[0m\u001b[1;33m\u001b[0m\u001b[1;33m\u001b[0m\u001b[0m\n\u001b[0;32m    878\u001b[0m \u001b[1;33m\u001b[0m\u001b[0m\n",
      "\u001b[1;32m~\\Anaconda3\\lib\\site-packages\\sklearn\\tree\\_classes.py\u001b[0m in \u001b[0;36mfit\u001b[1;34m(self, X, y, sample_weight, check_input, X_idx_sorted)\u001b[0m\n\u001b[0;32m    365\u001b[0m                                            min_impurity_split)\n\u001b[0;32m    366\u001b[0m \u001b[1;33m\u001b[0m\u001b[0m\n\u001b[1;32m--> 367\u001b[1;33m         \u001b[0mbuilder\u001b[0m\u001b[1;33m.\u001b[0m\u001b[0mbuild\u001b[0m\u001b[1;33m(\u001b[0m\u001b[0mself\u001b[0m\u001b[1;33m.\u001b[0m\u001b[0mtree_\u001b[0m\u001b[1;33m,\u001b[0m \u001b[0mX\u001b[0m\u001b[1;33m,\u001b[0m \u001b[0my\u001b[0m\u001b[1;33m,\u001b[0m \u001b[0msample_weight\u001b[0m\u001b[1;33m,\u001b[0m \u001b[0mX_idx_sorted\u001b[0m\u001b[1;33m)\u001b[0m\u001b[1;33m\u001b[0m\u001b[1;33m\u001b[0m\u001b[0m\n\u001b[0m\u001b[0;32m    368\u001b[0m \u001b[1;33m\u001b[0m\u001b[0m\n\u001b[0;32m    369\u001b[0m         \u001b[1;32mif\u001b[0m \u001b[0mself\u001b[0m\u001b[1;33m.\u001b[0m\u001b[0mn_outputs_\u001b[0m \u001b[1;33m==\u001b[0m \u001b[1;36m1\u001b[0m \u001b[1;32mand\u001b[0m \u001b[0mis_classifier\u001b[0m\u001b[1;33m(\u001b[0m\u001b[0mself\u001b[0m\u001b[1;33m)\u001b[0m\u001b[1;33m:\u001b[0m\u001b[1;33m\u001b[0m\u001b[1;33m\u001b[0m\u001b[0m\n",
      "\u001b[1;31mKeyboardInterrupt\u001b[0m: "
     ]
    }
   ],
   "source": [
    "test_sizes = np.array([25 * 2**k for k in range(10)])\n",
    "num_rows = len(test_sizes)\n",
    "T = 10\n",
    "df_learning_logistic = pd.DataFrame(data=np.zeros((num_rows,T)),columns=list(range(T)))\n",
    "df_learning_rf = pd.DataFrame(data=np.zeros((num_rows,T)),columns=list(range(T)))\n",
    "\n",
    "df_learning_logistic.index = test_sizes\n",
    "df_learning_rf.index = test_sizes\n",
    "\n",
    "for t in range(T):\n",
    "    \n",
    "    # just to get test data; training size is irrelavent here\n",
    "    data_dict_t = prepare_data(n_samples_train=10000,n_samples_test=10000,\n",
    "                                   feature_subset=final_features, random_state=t)\n",
    "    X_test_t = data_dict_t['X_test']\n",
    "    y_test_t = data_dict_t['y_test']\n",
    "    \n",
    "    for size in test_sizes:\n",
    "        \n",
    "        # get training data based on the specified size\n",
    "        data_dict_t = prepare_data(n_samples_train=int(size),n_samples_test=10000,\n",
    "                                   feature_subset=final_features, random_state=t)\n",
    "        \n",
    "        l2_logistic_t = LogisticRegression(penalty = 'l2')\n",
    "        cv_parameters = {\"C\":np.logspace(-4, 4, num = 10)}\n",
    "\n",
    "        l2_logistic_t = fit_classification(l2_logistic_t, data_dict_t,\n",
    "                            cv_parameters = cv_parameters, model_name = \"l2 Penalized Logistic Regression\",\n",
    "                                      print_to_screen = False, output_to_file = False)\n",
    "\n",
    "        random_forest_t = RandomForestClassifier()\n",
    "        cv_parameters = {'min_samples_leaf':[1, 2, 3, 5, 8, 13, 17, 20], 'n_estimators': [35, 60, 80, 100] }\n",
    "\n",
    "        random_forest_t = fit_classification(random_forest_t, data_dict_t,\n",
    "                                       cv_parameters=cv_parameters, model_name=\"Random forest\",\n",
    "                                             print_to_screen = False, output_to_file = False)\n",
    "\n",
    "        df_learning_logistic.loc[size,t] = roc_auc_score(y_test_t, l2_logistic_t['model'].predict_proba(X_test_t)[:,1])\n",
    "        df_learning_rf.loc[size,t] = roc_auc_score(y_test_t, random_forest_t['model'].predict_proba(X_test_t)[:,1])\n",
    "\n",
    "\n",
    "df_learning = pd.DataFrame(data=np.zeros((num_rows,2)),columns=['l2 logistic', 'random forest'])\n",
    "df_learning.index = test_sizes\n",
    "df_learning.loc[:,'l2 logistic'] = np.mean(df_learning_logistic.iloc[:,:11],axis=1)\n",
    "df_learning.loc[:,'random forest'] = np.mean(df_learning_rf.iloc[:,:11], axis=1)\n",
    "df_learning.plot()\n",
    "plt.ylabel('Testing AUC')\n",
    "plt.xlabel('Training Size')\n",
    "plt.show()"
   ]
  },
  {
   "cell_type": "markdown",
   "metadata": {
    "colab_type": "text",
    "id": "5W6Y-kLCOHo5"
   },
   "source": [
    "## Time stability test"
   ]
  },
  {
   "cell_type": "code",
   "execution_count": 54,
   "metadata": {},
   "outputs": [
    {
     "data": {
      "text/plain": [
       "0.0    624679\n",
       "1.0    110504\n",
       "Name: loan_status, dtype: int64"
      ]
     },
     "execution_count": 54,
     "metadata": {},
     "output_type": "execute_result"
    }
   ],
   "source": [
    "data.loan_status.value_counts()"
   ]
  },
  {
   "cell_type": "markdown",
   "metadata": {
    "colab_type": "text",
    "id": "JZ46YbdAOHo6"
   },
   "source": [
    "### On the whole time period"
   ]
  },
  {
   "cell_type": "code",
   "execution_count": 55,
   "metadata": {
    "colab": {
     "base_uri": "https://localhost:8080/",
     "height": 892
    },
    "colab_type": "code",
    "id": "CO3Y8126OHo7",
    "outputId": "45eb3fba-0e38-4342-82ef-cc94e93710ad"
   },
   "outputs": [
    {
     "name": "stdout",
     "output_type": "stream",
     "text": [
      "=========================================================\n",
      "  Model: Random forest\n",
      "=========================================================\n",
      "Fit time: 20.14 seconds\n",
      "Optimal parameters:\n",
      "{'min_samples_leaf': 40, 'n_estimators': 5}\n",
      "\n",
      "Accuracy-maximizing threshold was: 0.38883497149343443\n",
      "Accuracy:  0.8477142857142858\n",
      "              precision    recall  f1-score   support\n",
      "\n",
      "  No default     0.8509    0.9946    0.9171      5931\n",
      "     Default     0.5224    0.0327    0.0616      1069\n",
      "\n",
      "    accuracy                         0.8477      7000\n",
      "   macro avg     0.6866    0.5137    0.4894      7000\n",
      "weighted avg     0.8007    0.8477    0.7865      7000\n",
      "\n"
     ]
    },
    {
     "data": {
      "image/png": "[encoded data removed]",
      "text/plain": [
       "<Figure size 936x324 with 4 Axes>"
      ]
     },
     "metadata": {
      "needs_background": "light"
     },
     "output_type": "display_data"
    },
    {
     "name": "stdout",
     "output_type": "stream",
     "text": [
      "\n",
      "Similarity to LC grade ranking:  0.16459869461633106\n",
      "Brier score: 0.12042820781137027\n"
     ]
    },
    {
     "data": {
      "text/plain": [
       "{'model': RandomForestClassifier(bootstrap=True, ccp_alpha=0.0, class_weight=None,\n",
       "                        criterion='gini', max_depth=None, max_features='auto',\n",
       "                        max_leaf_nodes=None, max_samples=None,\n",
       "                        min_impurity_decrease=0.0, min_impurity_split=None,\n",
       "                        min_samples_leaf=40, min_samples_split=2,\n",
       "                        min_weight_fraction_leaf=0.0, n_estimators=5,\n",
       "                        n_jobs=None, oob_score=False, random_state=None,\n",
       "                        verbose=0, warm_start=False),\n",
       " 'y_pred_labels': array([False, False, False, ..., False, False, False]),\n",
       " 'y_pred_probs': array([0.00916084, 0.10240727, 0.11321924, ..., 0.19015348, 0.20383766,\n",
       "        0.20383766])}"
      ]
     },
     "execution_count": 55,
     "metadata": {},
     "output_type": "execute_result"
    }
   ],
   "source": [
    "data_dict_test = prepare_data(n_samples_train = 9000, n_samples_test = 7000, feature_subset = final_features)\n",
    "cv_parameters = {'min_samples_leaf':[1, 2, 3, 5, 8, 13, 17, 20, 40], 'n_estimators': [5, 10, 15, 20, 25] }\n",
    "\n",
    "fit_classification(RandomForestClassifier(), data_dict_test,\n",
    "                   cv_parameters = cv_parameters, model_name = \"Random forest\", output_to_file = False)"
   ]
  },
  {
   "cell_type": "markdown",
   "metadata": {
    "colab_type": "text",
    "id": "7WU82kW_OHo-"
   },
   "source": [
    "### Train and test on the first 2 years"
   ]
  },
  {
   "cell_type": "code",
   "execution_count": 56,
   "metadata": {
    "colab": {
     "base_uri": "https://localhost:8080/",
     "height": 34
    },
    "colab_type": "code",
    "id": "2duzqXAzOHo_",
    "outputId": "ef212548-0dcd-4b8a-e7a9-5a8aaba12a50"
   },
   "outputs": [
    {
     "data": {
      "text/plain": [
       "149699"
      ]
     },
     "execution_count": 56,
     "metadata": {},
     "output_type": "execute_result"
    }
   ],
   "source": [
    "#np.sum(data.issue_d < datetime.date(2015,6,1))\n",
    "np.sum(data.issue_d < np.datetime64('2014-12-31'))"
   ]
  },
  {
   "cell_type": "code",
   "execution_count": 57,
   "metadata": {
    "colab": {
     "base_uri": "https://localhost:8080/",
     "height": 892
    },
    "colab_type": "code",
    "id": "6ryQjwHPOHpC",
    "outputId": "22e97806-f064-4a5d-874e-dbd6cb173f4b"
   },
   "outputs": [
    {
     "name": "stdout",
     "output_type": "stream",
     "text": [
      "=========================================================\n",
      "  Model: Random forest\n",
      "=========================================================\n",
      "Fit time: 20.89 seconds\n",
      "Optimal parameters:\n",
      "{'min_samples_leaf': 13, 'n_estimators': 20}\n",
      "\n",
      "Accuracy-maximizing threshold was: 0.3966215604713658\n",
      "Accuracy:  0.831\n",
      "              precision    recall  f1-score   support\n",
      "\n",
      "  No default     0.8508    0.9671    0.9052      5843\n",
      "     Default     0.4637    0.1435    0.2191      1157\n",
      "\n",
      "    accuracy                         0.8310      7000\n",
      "   macro avg     0.6572    0.5553    0.5622      7000\n",
      "weighted avg     0.7868    0.8310    0.7918      7000\n",
      "\n"
     ]
    },
    {
     "data": {
      "image/png": "[encoded data removed]",
      "text/plain": [
       "<Figure size 936x324 with 4 Axes>"
      ]
     },
     "metadata": {
      "needs_background": "light"
     },
     "output_type": "display_data"
    },
    {
     "name": "stdout",
     "output_type": "stream",
     "text": [
      "\n",
      "Similarity to LC grade ranking:  0.15796531860145965\n",
      "Brier score: 0.1247262811630372\n"
     ]
    },
    {
     "data": {
      "text/plain": [
       "{'model': RandomForestClassifier(bootstrap=True, ccp_alpha=0.0, class_weight=None,\n",
       "                        criterion='gini', max_depth=None, max_features='auto',\n",
       "                        max_leaf_nodes=None, max_samples=None,\n",
       "                        min_impurity_decrease=0.0, min_impurity_split=None,\n",
       "                        min_samples_leaf=13, min_samples_split=2,\n",
       "                        min_weight_fraction_leaf=0.0, n_estimators=20,\n",
       "                        n_jobs=None, oob_score=False, random_state=None,\n",
       "                        verbose=0, warm_start=False),\n",
       " 'y_pred_labels': array([False, False, False, ..., False, False, False]),\n",
       " 'y_pred_probs': array([0.17903738, 0.10038034, 0.01744186, ..., 0.13552458, 0.12735702,\n",
       "        0.156478  ])}"
      ]
     },
     "execution_count": 57,
     "metadata": {},
     "output_type": "execute_result"
    }
   ],
   "source": [
    "start_date = np.datetime64('2013-01-01')\n",
    "end_date = np.datetime64('2014-12-31')\n",
    "\n",
    "data_dict_test = prepare_data(date_range_train = (start_date, end_date), date_range_test = (start_date, end_date),\n",
    "                         n_samples_train = 9000, n_samples_test = 7000, feature_subset = final_features)\n",
    "\n",
    "cv_parameters = {'min_samples_leaf':[1, 2, 3, 5, 8, 13, 17, 20, 40], 'n_estimators': [5, 10, 15, 20, 25] }\n",
    "\n",
    "fit_classification(RandomForestClassifier(), data_dict_test,\n",
    "                   cv_parameters = cv_parameters, model_name = \"Random forest\", output_to_file = False)"
   ]
  },
  {
   "cell_type": "markdown",
   "metadata": {
    "colab_type": "text",
    "id": "jhZhiZ0UOHpF"
   },
   "source": [
    "### Train on the first 2 years and test on the last year"
   ]
  },
  {
   "cell_type": "code",
   "execution_count": 58,
   "metadata": {
    "colab": {
     "base_uri": "https://localhost:8080/",
     "height": 892
    },
    "colab_type": "code",
    "id": "YjMA0YhROHpF",
    "outputId": "8a48b4ae-b07d-4438-e26f-4c558f9cda09"
   },
   "outputs": [
    {
     "name": "stdout",
     "output_type": "stream",
     "text": [
      "=========================================================\n",
      "  Model: Random forest\n",
      "=========================================================\n",
      "Fit time: 19.56 seconds\n",
      "Optimal parameters:\n",
      "{'min_samples_leaf': 13, 'n_estimators': 20}\n",
      "\n",
      "Accuracy-maximizing threshold was: 0.3966215604713658\n",
      "Accuracy:  0.9118571428571428\n",
      "              precision    recall  f1-score   support\n",
      "\n",
      "  No default     0.9616    0.9460    0.9538      6728\n",
      "     Default     0.0472    0.0662    0.0551       272\n",
      "\n",
      "    accuracy                         0.9119      7000\n",
      "   macro avg     0.5044    0.5061    0.5045      7000\n",
      "weighted avg     0.9261    0.9119    0.9189      7000\n",
      "\n"
     ]
    },
    {
     "data": {
      "image/png": "[encoded data removed]",
      "text/plain": [
       "<Figure size 936x324 with 4 Axes>"
      ]
     },
     "metadata": {
      "needs_background": "light"
     },
     "output_type": "display_data"
    },
    {
     "name": "stdout",
     "output_type": "stream",
     "text": [
      "\n",
      "Similarity to LC grade ranking:  0.15796531860145965\n",
      "Brier score: 0.08039909534844232\n"
     ]
    },
    {
     "data": {
      "text/plain": [
       "{'model': RandomForestClassifier(bootstrap=True, ccp_alpha=0.0, class_weight=None,\n",
       "                        criterion='gini', max_depth=None, max_features='auto',\n",
       "                        max_leaf_nodes=None, max_samples=None,\n",
       "                        min_impurity_decrease=0.0, min_impurity_split=None,\n",
       "                        min_samples_leaf=13, min_samples_split=2,\n",
       "                        min_weight_fraction_leaf=0.0, n_estimators=20,\n",
       "                        n_jobs=None, oob_score=False, random_state=None,\n",
       "                        verbose=0, warm_start=False),\n",
       " 'y_pred_labels': array([False, False, False, ..., False, False, False]),\n",
       " 'y_pred_probs': array([0.2599607 , 0.21394454, 0.3249159 , ..., 0.31381318, 0.21377097,\n",
       "        0.20218554])}"
      ]
     },
     "execution_count": 58,
     "metadata": {},
     "output_type": "execute_result"
    }
   ],
   "source": [
    "start_date_train = np.datetime64('2013-01-01')\n",
    "end_date_train = np.datetime64('2014-12-31')\n",
    "start_date_test = np.datetime64('2018-01-01')\n",
    "end_date_test = np.datetime64('2018-12-31')\n",
    "\n",
    "data_dict_test = prepare_data(date_range_train = (start_date_train, end_date_train), \n",
    "                         date_range_test = (start_date_test, end_date_test),\n",
    "                         n_samples_train = 9000, n_samples_test = 7000, feature_subset = final_features)\n",
    "\n",
    "cv_parameters = {'min_samples_leaf':[1, 2, 3, 5, 8, 13, 17, 20, 40], 'n_estimators': [5, 10, 15, 20, 25] }\n",
    "\n",
    "fit_classification(RandomForestClassifier(), data_dict_test,\n",
    "                   cv_parameters = cv_parameters, model_name = \"Random forest\", output_to_file = False)"
   ]
  },
  {
   "cell_type": "markdown",
   "metadata": {
    "colab_type": "text",
    "id": "t2HjFo_lOHpI"
   },
   "source": [
    "## Test investment strategies \n",
    "Now we test several investment strategies using the learning models above"
   ]
  },
  {
   "cell_type": "code",
   "execution_count": 59,
   "metadata": {
    "colab": {
     "base_uri": "https://localhost:8080/",
     "height": 105
    },
    "colab_type": "code",
    "id": "-zYCmBGxOHpI",
    "outputId": "48b51837-74e1-4ad8-84bb-d8db46c942a8"
   },
   "outputs": [
    {
     "name": "stdout",
     "output_type": "stream",
     "text": [
      "strategy: Random\n",
      "ret_PESS: 0.014940905795160879\n",
      "ret_OPT: 0.056582323727499884\n",
      "ret_INTa: 0.024681210196163803\n",
      "ret_INTb: 0.03429977886861588\n"
     ]
    }
   ],
   "source": [
    "col_list = ['ret_PESS', 'ret_OPT', 'ret_INTa', 'ret_INTb']\n",
    "test_strategy = 'Random'\n",
    "\n",
    "print('strategy:',test_strategy)   \n",
    "strat_random = test_investments(data_dict,strategy = test_strategy, \n",
    "                            num_loans = 1000, output_to_file = False, random_state = 1)\n",
    "for ret_col in col_list:\n",
    "    print(ret_col + ': ' + str(strat_random[ret_col]['average return']))"
   ]
  },
  {
   "cell_type": "code",
   "execution_count": 60,
   "metadata": {
    "colab": {
     "base_uri": "https://localhost:8080/",
     "height": 105
    },
    "colab_type": "code",
    "id": "QTZ176rKOHpK",
    "outputId": "320c1043-7145-4f84-83e1-8513fb0d4e88"
   },
   "outputs": [
    {
     "name": "stdout",
     "output_type": "stream",
     "text": [
      "strategy: Ranking\n",
      "ret_PESS: 0.07329501586281616\n",
      "ret_OPT: 0.0750225748173435\n",
      "ret_INTa: 0.02651452387456757\n",
      "ret_INTb: 0.03233399879156022\n"
     ]
    }
   ],
   "source": [
    "test_strategy = 'Ranking'\n",
    "\n",
    "print('strategy:',test_strategy)\n",
    "strat_rank = test_investments(data_dict, classifier=random_forest, strategy = test_strategy, \n",
    "                        num_loans = 1000, output_to_file = False)\n",
    "\n",
    "for ret_col in col_list:\n",
    "    print(ret_col + ': ' + str(strat_rank[ret_col]['average return']))"
   ]
  },
  {
   "cell_type": "code",
   "execution_count": 61,
   "metadata": {
    "colab": {
     "base_uri": "https://localhost:8080/",
     "height": 105
    },
    "colab_type": "code",
    "id": "jyzAIcXtOHpM",
    "outputId": "fecf8dfd-2750-4b5c-f517-e71ffc671504"
   },
   "outputs": [
    {
     "name": "stdout",
     "output_type": "stream",
     "text": [
      "strategy: Regression\n",
      "ret_PESS: 0.11261458350107531\n",
      "ret_OPT: 0.07252333437043564\n",
      "ret_INTa: 0.026227890413804668\n",
      "ret_INTb: 0.03475332572764434\n"
     ]
    }
   ],
   "source": [
    "test_strategy = 'Regression'\n",
    "\n",
    "print('strategy:',test_strategy)\n",
    "strat_reg = test_investments(data_dict, regressor=reg_rf, strategy = test_strategy, \n",
    "                        num_loans = 1000)\n",
    "for ret_col in col_list:\n",
    "    print(ret_col + ': ' + str(strat_reg[ret_col]['average return']))"
   ]
  },
  {
   "cell_type": "code",
   "execution_count": 62,
   "metadata": {
    "colab": {
     "base_uri": "https://localhost:8080/",
     "height": 105
    },
    "colab_type": "code",
    "id": "S2LfJO79OHpO",
    "outputId": "a157422e-2a01-4ccb-c837-897f1e284945"
   },
   "outputs": [
    {
     "name": "stdout",
     "output_type": "stream",
     "text": [
      "strategy: Two-stage\n",
      "ret_PESS: 0.1121903245210521\n",
      "ret_OPT: 0.06575101629266852\n",
      "ret_INTa: 0.026958068553870954\n",
      "ret_INTb: 0.03297131804048246\n"
     ]
    }
   ],
   "source": [
    "test_strategy = 'Two-stage'\n",
    "\n",
    "## For the two-stage strategy we need to fit a new RF regressor with separate = True\n",
    "cv_parameters = {'min_samples_leaf':[25, 50, 75, 100, 200, 300, 400],\n",
    "                 'n_estimators': [35, 45, 55, 65, 80, 90, 100] }\n",
    "\n",
    "reg_rf_separate = fit_regression(RandomForestRegressor(), data_dict,\n",
    "                       cv_parameters = cv_parameters, separate = True, model_name = \"Random forest regressor\", \n",
    "                       print_to_screen = False, output_to_file = False)\n",
    "\n",
    "print('strategy:',test_strategy)\n",
    "two_stage = test_investments(data_dict, classifier = random_forest, regressor = reg_rf_separate, \n",
    "                             strategy = test_strategy, num_loans = 1000)\n",
    "\n",
    "for ret_col in col_list:\n",
    "    print(ret_col + ': ' + str(two_stage[ret_col]['average return']))"
   ]
  },
  {
   "cell_type": "markdown",
   "metadata": {
    "colab_type": "text",
    "id": "7THqcYrIOHpQ"
   },
   "source": [
    "## Sensitivity test of portfolio size"
   ]
  },
  {
   "cell_type": "code",
   "execution_count": 63,
   "metadata": {
    "colab": {
     "base_uri": "https://localhost:8080/",
     "height": 283
    },
    "colab_type": "code",
    "id": "Fze-FTuPOHpR",
    "outputId": "80b0b382-2819-4286-e1b8-4828cf4c0de1"
   },
   "outputs": [
    {
     "data": {
      "image/png": "[encoded data removed]",
      "text/plain": [
       "<Figure size 432x288 with 1 Axes>"
      ]
     },
     "metadata": {
      "needs_background": "light"
     },
     "output_type": "display_data"
    }
   ],
   "source": [
    "result_sensitivity = []\n",
    "\n",
    "## Vary the portfolio size from 1,000 to 10,000\n",
    "for num_loans in list(range(1000,10000,1000)):\n",
    "\n",
    "    reg_0 = test_investments(data_dict, regressor = reg_rf_separate, classifier = random_forest, \n",
    "                            strategy = 'Two-stage', num_loans = num_loans)\n",
    "    result_sensitivity.append(reg_0['ret_PESS']['average return'])\n",
    "    \n",
    "result_sensitivity = np.array(result_sensitivity) * 100\n",
    "sns.pointplot(np.array(list(range(1000,10000,1000))),result_sensitivity)\n",
    "sns.despine()\n",
    "plt.ylabel('Investment Return (%)',size = 14)\n",
    "plt.xlabel('Portfolio Size',size = 14)\n",
    "plt.show()"
   ]
  },
  {
   "cell_type": "markdown",
   "metadata": {
    "colab_type": "text",
    "id": "WNot7WbLOHpV"
   },
   "source": [
    "## Optimization: an example\n",
    "In this section, we implement three different optimization models. To illustrate and compare these models we will only use the M1-PESS definition and the predicted returns from the previously tested two-stage strategy.\n",
    "\n",
    "### Directly maximize total profit"
   ]
  },
  {
   "cell_type": "code",
   "execution_count": 64,
   "metadata": {
    "colab": {},
    "colab_type": "code",
    "id": "CvaXz03wOHpV"
   },
   "outputs": [
    {
     "name": "stdout",
     "output_type": "stream",
     "text": [
      "Using license file c:\\gurobi\\gurobi.lic\n",
      "Academic license - for non-commercial use only\n",
      "return: 0.06831754247123985\n"
     ]
    }
   ],
   "source": [
    "# In this section we implement two versions of optimization problem\n",
    "# The first one is simply maximizing the total expected profit\n",
    "ret_col = 'ret_PESS'\n",
    "test_pool = two_stage[ret_col]['test data']\n",
    "num_loans = 1000\n",
    "\n",
    "# create the model\n",
    "m = Model('model_maximizing_profit')\n",
    "Var = {}\n",
    "\n",
    "# add the binary variable to the model\n",
    "for i in range(test_pool.shape[0]):\n",
    "        Var[i] = m.addVar(vtype=GRB.BINARY)\n",
    "\n",
    "# add the number of loans constraint\n",
    "m.addConstr(num_loans == quicksum(Var[i] for i in range(test_pool.shape[0])))\n",
    "\n",
    "# set the objective to maximize total profit\n",
    "m.setObjective(quicksum(Var[i]*test_pool['predicted_return_'+ret_col].iloc[i]*test_pool.amount_borrowed.iloc[i]\n",
    "                        for i in range(test_pool.shape[0])), GRB.MAXIMIZE)\n",
    "\n",
    "m.setParam('OutputFlag',False)\n",
    "m.optimize()\n",
    "\n",
    "# save only the selected loans and compute the average return\n",
    "test_pool['selection'] = np.array(m.X)\n",
    "pf_0 = test_pool[test_pool.selection > 0]\n",
    "\n",
    "print('return:',np.dot(pf_0[ret_col],pf_0.amount_borrowed)/np.sum(pf_0.amount_borrowed))"
   ]
  },
  {
   "cell_type": "markdown",
   "metadata": {
    "colab_type": "text",
    "id": "7lF8EhukOHpa"
   },
   "source": [
    "### Maximize profit with budget constraint"
   ]
  },
  {
   "cell_type": "code",
   "execution_count": 65,
   "metadata": {
    "colab": {},
    "colab_type": "code",
    "id": "E-U2A50cOHpa"
   },
   "outputs": [
    {
     "name": "stdout",
     "output_type": "stream",
     "text": [
      "return: 0.10492285110371322\n"
     ]
    }
   ],
   "source": [
    "m = Model('model_maximizing_profit_constrained')\n",
    "Var = {}\n",
    "Budget = 10*1000000\n",
    "\n",
    "for i in range(test_pool.shape[0]):\n",
    "    Var[i] = m.addVar(vtype=GRB.BINARY)\n",
    "\n",
    "# add the budget constraint\n",
    "m.addConstr(Budget >= quicksum(Var[i] * test_pool.amount_borrowed.iloc[i]\n",
    "                       for i in range(test_pool.shape[0])))\n",
    "\n",
    "m.addConstr(num_loans >= quicksum(Var[i] for i in range(test_pool.shape[0])))\n",
    "\n",
    "# add a minimum number of loans constraint\n",
    "m.addConstr(900 <= quicksum(Var[i] for i in range(test_pool.shape[0])))\n",
    "\n",
    "m.setObjective(quicksum(Var[i]*test_pool['predicted_return_'+ret_col].iloc[i]*test_pool.amount_borrowed.iloc[i]\n",
    "                        for i in range(test_pool.shape[0])), GRB.MAXIMIZE)\n",
    "\n",
    "m.setParam('OutputFlag',False)\n",
    "m.optimize()\n",
    "\n",
    "test_pool['selection'] = np.array(m.X)\n",
    "pf_0 = test_pool[test_pool.selection > 0]\n",
    "\n",
    "print('return:',np.dot(pf_0[ret_col],pf_0.amount_borrowed)/np.sum(pf_0.amount_borrowed))"
   ]
  },
  {
   "cell_type": "markdown",
   "metadata": {
    "colab_type": "text",
    "collapsed": true,
    "id": "lzuaLvdEOHpe"
   },
   "source": [
    "### Maximize profit with risk-return tradeoff"
   ]
  },
  {
   "cell_type": "code",
   "execution_count": 66,
   "metadata": {
    "colab": {},
    "colab_type": "code",
    "id": "qBBHQxl3OHpe"
   },
   "outputs": [
    {
     "name": "stdout",
     "output_type": "stream",
     "text": [
      "return: 0.10277304536597648\n"
     ]
    }
   ],
   "source": [
    "## First we need to train a clustering model to estimate the variance of return\n",
    "n_clusters = 5\n",
    "\n",
    "train_set = data_dict['train_set']\n",
    "data_train = data.loc[train_set,:]\n",
    "\n",
    "# Create a dataframe for testing, including the score\n",
    "data_test = two_stage[ret_col]['test data']\n",
    "\n",
    "kmeans = KMeans(n_clusters=n_clusters, random_state=0).fit(data_dict['X_train'])\n",
    "data_train['clusID'] = kmeans.predict(data_dict['X_train'])\n",
    "data_test['clusID'] = kmeans.predict(data_dict['X_test'])\n",
    "data_test['volatility'] = 0\n",
    "\n",
    "for idx in range(n_clusters):\n",
    "    std_clus = np.std(data_train[ret_col][data_train.clusID == idx])\n",
    "    data_test.volatility[data_test.clusID == idx] = std_clus\n",
    "\n",
    "## Specify the parameters of the optimization model\n",
    "# beta: penalty factor on the risk\n",
    "beta = 0.009\n",
    "Budget = 10.7*1000000\n",
    "\n",
    "m = Model('model_volatility_constrained')\n",
    "\n",
    "for i in range(test_pool.shape[0]):\n",
    "    Var[i] = m.addVar(vtype=GRB.BINARY)\n",
    "\n",
    "# add the budget constraint\n",
    "m.addConstr(Budget >= quicksum(Var[i] * test_pool.amount_borrowed.iloc[i]\n",
    "                       for i in range(test_pool.shape[0])))\n",
    "\n",
    "m.addConstr(num_loans >= quicksum(Var[i] for i in range(test_pool.shape[0])))\n",
    "m.addConstr(900 <= quicksum(Var[i] for i in range(test_pool.shape[0])))\n",
    "\n",
    "# the expected return is adjusted based on the risk\n",
    "m.setObjective(quicksum(Var[i]*(test_pool['predicted_return_'+  ret_col].iloc[i] -\n",
    "                                beta * test_pool.volatility.iloc[i])\n",
    "                                *test_pool.amount_borrowed.iloc[i]\n",
    "                                for i in range(test_pool.shape[0])), GRB.MAXIMIZE)\n",
    "\n",
    "m.setParam('OutputFlag',False)\n",
    "m.optimize()\n",
    "\n",
    "test_pool['selection'] = np.array(m.X)\n",
    "pf_0 = test_pool[test_pool.selection > 0]\n",
    "\n",
    "print('return:',np.dot(pf_0[ret_col],pf_0.amount_borrowed)/np.sum(pf_0.amount_borrowed))"
   ]
  },
  {
   "cell_type": "code",
   "execution_count": null,
   "metadata": {},
   "outputs": [],
   "source": []
  }
 ],
 "metadata": {
  "colab": {
   "collapsed_sections": [],
   "name": "Service_Analytics_Modeling_2013_2018.ipynb",
   "provenance": []
  },
  "kernelspec": {
   "display_name": "Python 3",
   "language": "python",
   "name": "python3"
  },
  "language_info": {
   "codemirror_mode": {
    "name": "ipython",
    "version": 3
   },
   "file_extension": ".py",
   "mimetype": "text/x-python",
   "name": "python",
   "nbconvert_exporter": "python",
   "pygments_lexer": "ipython3",
   "version": "3.7.3"
  },
  "toc": {
   "base_numbering": 1,
   "nav_menu": {},
   "number_sections": true,
   "sideBar": true,
   "skip_h1_title": false,
   "title_cell": "Table of Contents",
   "title_sidebar": "Contents",
   "toc_cell": false,
   "toc_position": {
    "height": "calc(100% - 180px)",
    "left": "10px",
    "top": "150px",
    "width": "316.833px"
   },
   "toc_section_display": true,
   "toc_window_display": true
  }
 },
 "nbformat": 4,
 "nbformat_minor": 1
}
